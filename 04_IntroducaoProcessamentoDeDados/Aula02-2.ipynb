{
 "cells": [
  {
   "cell_type": "code",
   "execution_count": 4,
   "id": "997614c7",
   "metadata": {},
   "outputs": [
    {
     "name": "stdout",
     "output_type": "stream",
     "text": [
      "Inicio da contagem\n",
      "Fim da contagem\n",
      "50000000\n",
      "Inicio da contagem\n",
      "Fim da contagem\n",
      "50000000\n",
      "tempo total:6.62\n"
     ]
    }
   ],
   "source": [
    "import time\n",
    "\n",
    "inicio = time.perf_counter()\n",
    "\n",
    "def joabe_soma():\n",
    "    print('Inicio da contagem')\n",
    "    soma = 0\n",
    "    for i in range(50_000_000):\n",
    "        soma += 1\n",
    "    print('Fim da contagem')\n",
    "    print(soma)\n",
    "\n",
    "joabe_soma()\n",
    "joabe_soma()\n",
    "\n",
    "fim = time.perf_counter()\n",
    "\n",
    "total = round(fim - inicio, 2)\n",
    "\n",
    "print (f'tempo total:{total}')\n"
   ]
  },
  {
   "cell_type": "code",
   "execution_count": null,
   "id": "d4ca2a1b",
   "metadata": {},
   "outputs": [
    {
     "name": "stdout",
     "output_type": "stream",
     "text": [
      "tempo total:0.0\n",
      "tempo total:0.18\n"
     ]
    }
   ],
   "source": [
    "\n",
    "#Só presta no .py\n",
    "import time\n",
    "import multiprocessing\n",
    "\n",
    "inicio = time.perf_counter()\n",
    "\n",
    "def joabe_soma():\n",
    "    print('Inicio da contagem')\n",
    "    soma = 0\n",
    "    for i in range(50_000_000):\n",
    "        soma += 1\n",
    "    print('Fim da contagem')\n",
    "    print(soma)\n",
    "\n",
    "fim = time.perf_counter()\n",
    "\n",
    "total = round(fim - inicio, 2)\n",
    "\n",
    "print (f'tempo total:{total}')\n",
    "\n",
    "if __name__ == '__main__':\n",
    "    inicio = time.perf_counter()\n",
    "\n",
    "    cod1 = multiprocessing.Process(target=joabe_soma)\n",
    "    cod2 = multiprocessing.Process(target=joabe_soma)\n",
    "\n",
    "    cod1.start()\n",
    "    cod2.start()\n",
    "\n",
    "    cod1.join()\n",
    "    cod2.join()\n",
    "\n",
    "    fim = time.perf_counter()\n",
    "\n",
    "    total = round(fim - inicio, 2)\n",
    "\n",
    "    print (f'tempo total:{total}')\n"
   ]
  }
 ],
 "metadata": {
  "kernelspec": {
   "display_name": "base",
   "language": "python",
   "name": "python3"
  },
  "language_info": {
   "codemirror_mode": {
    "name": "ipython",
    "version": 3
   },
   "file_extension": ".py",
   "mimetype": "text/x-python",
   "name": "python",
   "nbconvert_exporter": "python",
   "pygments_lexer": "ipython3",
   "version": "3.12.7"
  }
 },
 "nbformat": 4,
 "nbformat_minor": 5
}
