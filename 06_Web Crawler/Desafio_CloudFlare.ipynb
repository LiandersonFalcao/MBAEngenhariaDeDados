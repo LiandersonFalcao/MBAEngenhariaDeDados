{
 "cells": [
  {
   "cell_type": "code",
   "execution_count": 1,
   "id": "a2cc12c6",
   "metadata": {},
   "outputs": [],
   "source": [
    "#pip install selenium"
   ]
  },
  {
   "cell_type": "code",
   "execution_count": 2,
   "id": "6796deda",
   "metadata": {},
   "outputs": [],
   "source": [
    "#pip install seleniumbase"
   ]
  },
  {
   "cell_type": "code",
   "execution_count": 3,
   "id": "c3f20cf1",
   "metadata": {},
   "outputs": [],
   "source": [
    "from seleniumbase import Driver\n",
    "from selenium import webdriver\n",
    "from selenium.webdriver.common.by import By\n",
    "from selenium.webdriver.chrome.service import Service as ChromeService\n",
    "from selenium.webdriver.support.ui import WebDriverWait\n",
    "from selenium.webdriver.support import expected_conditions as EC\n",
    "from webdriver_manager.chrome import ChromeDriverManager\n",
    "from selenium.common.exceptions import TimeoutException, NoSuchElementException\n",
    "import time\n",
    "import requests"
   ]
  },
  {
   "cell_type": "code",
   "execution_count": 4,
   "id": "cbaf8c97",
   "metadata": {},
   "outputs": [
    {
     "name": "stdout",
     "output_type": "stream",
     "text": [
      "Capturou a URL: https://www.scrapingcourse.com/antibot-challenge\n"
     ]
    }
   ],
   "source": [
    "#instancia objeto options\n",
    "options = webdriver.ChromeOptions()\n",
    "\n",
    "#instancia driver selenium do chrome\n",
    "driver = webdriver.Chrome(service=ChromeService(ChromeDriverManager().install()), options=options)\n",
    "\n",
    "#seta tela maximizada\n",
    "options.add_argument(\"--start-maximized\")\n",
    "\n",
    "#espera 10 s\n",
    "timeout = 10\n",
    "\n",
    "# seta variável com raíz do site\n",
    "url = \"https://www.scrapingcourse.com/\"\n",
    "\n",
    "#abre navegador com o site\n",
    "driver.get(url)\n",
    "\n",
    "#espera o site carregar\n",
    "wait = WebDriverWait(driver, timeout)\n",
    "\n",
    "#procura artefatos com link 'See Page'\n",
    "links = driver.find_elements(By.LINK_TEXT, 'See Page')\n",
    "\n",
    "#vai para o décimo link da página\n",
    "if links:\n",
    "    links[11].click()\n",
    "    url_next = driver.current_url\n",
    "    print(f'Capturou a URL: {url_next}')\n",
    "else:\n",
    "    print('Nenhum link que atenda ao padrão buscado')\n",
    "\n",
    "# Espera 1s\n",
    "time.sleep(1)\n",
    "\n",
    "#fecha o navegador\n",
    "driver.quit()\n"
   ]
  },
  {
   "cell_type": "code",
   "execution_count": 5,
   "id": "4c4e1e91",
   "metadata": {},
   "outputs": [
    {
     "name": "stdout",
     "output_type": "stream",
     "text": [
      "{'test_cookie': 'cookie_value'}\n"
     ]
    }
   ],
   "source": [
    "# criar uma sessão\n",
    "session = requests.Session()\n",
    "\n",
    "# site gerador de cookie\n",
    "url_cookie = \"https://httpbin.io/cookies\"\n",
    "\n",
    "# definir o cookie desejado\n",
    "session.cookies.set(\"test_cookie\", \"cookie_value\")\n",
    "\n",
    "# enviar a requisição e recebe o cookie no cabeçalho\n",
    "response = session.get(url_cookie)\n",
    "print(response.json())"
   ]
  },
  {
   "cell_type": "code",
   "execution_count": 6,
   "id": "11dacc8b",
   "metadata": {},
   "outputs": [],
   "source": [
    "#headless desativado e UC ativado\n",
    "driver = Driver(uc=True, headless=False)\n",
    "\n",
    "# abre novamente a url com modo UC \n",
    "driver.uc_open_with_reconnect(url_next, reconnect_time=1)\n",
    "\n",
    "#usa modo UC para passar pelo captcha\n",
    "driver.uc_gui_click_captcha()\n",
    "\n",
    "# Espera 5s\n",
    "time.sleep(5)\n",
    "\n",
    "# Fecha o nagegador\n",
    "driver.quit()"
   ]
  }
 ],
 "metadata": {
  "kernelspec": {
   "display_name": "base",
   "language": "python",
   "name": "python3"
  },
  "language_info": {
   "codemirror_mode": {
    "name": "ipython",
    "version": 3
   },
   "file_extension": ".py",
   "mimetype": "text/x-python",
   "name": "python",
   "nbconvert_exporter": "python",
   "pygments_lexer": "ipython3",
   "version": "3.12.7"
  }
 },
 "nbformat": 4,
 "nbformat_minor": 5
}
