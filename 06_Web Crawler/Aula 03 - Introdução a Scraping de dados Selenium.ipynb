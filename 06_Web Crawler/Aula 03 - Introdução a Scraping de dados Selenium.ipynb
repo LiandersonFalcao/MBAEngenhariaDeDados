{
 "cells": [
  {
   "cell_type": "code",
   "execution_count": 1,
   "id": "a9e503c5",
   "metadata": {},
   "outputs": [
    {
     "name": "stdout",
     "output_type": "stream",
     "text": [
      "Requirement already satisfied: selenium in c:\\users\\lianderson\\anaconda3\\lib\\site-packages (4.36.0)\n",
      "Requirement already satisfied: urllib3<3.0,>=2.5.0 in c:\\users\\lianderson\\anaconda3\\lib\\site-packages (from urllib3[socks]<3.0,>=2.5.0->selenium) (2.5.0)\n",
      "Requirement already satisfied: trio<1.0,>=0.30.0 in c:\\users\\lianderson\\anaconda3\\lib\\site-packages (from selenium) (0.31.0)\n",
      "Requirement already satisfied: trio-websocket<1.0,>=0.12.2 in c:\\users\\lianderson\\anaconda3\\lib\\site-packages (from selenium) (0.12.2)\n",
      "Requirement already satisfied: certifi>=2025.6.15 in c:\\users\\lianderson\\anaconda3\\lib\\site-packages (from selenium) (2025.8.3)\n",
      "Requirement already satisfied: typing_extensions<5.0,>=4.14.0 in c:\\users\\lianderson\\anaconda3\\lib\\site-packages (from selenium) (4.15.0)\n",
      "Requirement already satisfied: websocket-client<2.0,>=1.8.0 in c:\\users\\lianderson\\anaconda3\\lib\\site-packages (from selenium) (1.8.0)\n",
      "Requirement already satisfied: attrs>=23.2.0 in c:\\users\\lianderson\\anaconda3\\lib\\site-packages (from trio<1.0,>=0.30.0->selenium) (25.3.0)\n",
      "Requirement already satisfied: sortedcontainers in c:\\users\\lianderson\\anaconda3\\lib\\site-packages (from trio<1.0,>=0.30.0->selenium) (2.4.0)\n",
      "Requirement already satisfied: idna in c:\\users\\lianderson\\anaconda3\\lib\\site-packages (from trio<1.0,>=0.30.0->selenium) (3.7)\n",
      "Requirement already satisfied: outcome in c:\\users\\lianderson\\anaconda3\\lib\\site-packages (from trio<1.0,>=0.30.0->selenium) (1.3.0.post0)\n",
      "Requirement already satisfied: sniffio>=1.3.0 in c:\\users\\lianderson\\anaconda3\\lib\\site-packages (from trio<1.0,>=0.30.0->selenium) (1.3.0)\n",
      "Requirement already satisfied: cffi>=1.14 in c:\\users\\lianderson\\anaconda3\\lib\\site-packages (from trio<1.0,>=0.30.0->selenium) (1.17.1)\n",
      "Requirement already satisfied: wsproto>=0.14 in c:\\users\\lianderson\\anaconda3\\lib\\site-packages (from trio-websocket<1.0,>=0.12.2->selenium) (1.2.0)\n",
      "Requirement already satisfied: pysocks!=1.5.7,<2.0,>=1.5.6 in c:\\users\\lianderson\\anaconda3\\lib\\site-packages (from urllib3[socks]<3.0,>=2.5.0->selenium) (1.7.1)\n",
      "Requirement already satisfied: pycparser in c:\\users\\lianderson\\anaconda3\\lib\\site-packages (from cffi>=1.14->trio<1.0,>=0.30.0->selenium) (2.21)\n",
      "Requirement already satisfied: h11<1,>=0.9.0 in c:\\users\\lianderson\\anaconda3\\lib\\site-packages (from wsproto>=0.14->trio-websocket<1.0,>=0.12.2->selenium) (0.14.0)\n",
      "Collecting webdriver-manager\n",
      "  Downloading webdriver_manager-4.0.2-py2.py3-none-any.whl.metadata (12 kB)\n",
      "Requirement already satisfied: requests in c:\\users\\lianderson\\anaconda3\\lib\\site-packages (from webdriver-manager) (2.32.3)\n",
      "Requirement already satisfied: python-dotenv in c:\\users\\lianderson\\anaconda3\\lib\\site-packages (from webdriver-manager) (0.21.0)\n",
      "Requirement already satisfied: packaging in c:\\users\\lianderson\\anaconda3\\lib\\site-packages (from webdriver-manager) (24.1)\n",
      "Requirement already satisfied: charset-normalizer<4,>=2 in c:\\users\\lianderson\\anaconda3\\lib\\site-packages (from requests->webdriver-manager) (3.3.2)\n",
      "Requirement already satisfied: idna<4,>=2.5 in c:\\users\\lianderson\\anaconda3\\lib\\site-packages (from requests->webdriver-manager) (3.7)\n",
      "Requirement already satisfied: urllib3<3,>=1.21.1 in c:\\users\\lianderson\\anaconda3\\lib\\site-packages (from requests->webdriver-manager) (2.5.0)\n",
      "Requirement already satisfied: certifi>=2017.4.17 in c:\\users\\lianderson\\anaconda3\\lib\\site-packages (from requests->webdriver-manager) (2025.8.3)\n",
      "Downloading webdriver_manager-4.0.2-py2.py3-none-any.whl (27 kB)\n",
      "Installing collected packages: webdriver-manager\n",
      "Successfully installed webdriver-manager-4.0.2\n"
     ]
    }
   ],
   "source": [
    "!pip install selenium\n",
    "!pip install webdriver-manager"
   ]
  },
  {
   "cell_type": "code",
   "execution_count": 1,
   "id": "47a20f13",
   "metadata": {},
   "outputs": [],
   "source": [
    "import time\n",
    "from selenium import webdriver\n",
    "from selenium.webdriver.common.by import By\n",
    "from selenium.webdriver.chrome.options import Options\n",
    "from selenium.webdriver.support.ui import WebDriverWait\n",
    "from selenium.webdriver.support import expected_conditions as EC\n",
    "\n",
    "\n",
    "from selenium.webdriver.chrome.service import Service\n",
    "from webdriver_manager.chrome import ChromeDriverManager"
   ]
  },
  {
   "cell_type": "code",
   "execution_count": null,
   "id": "12255cdf",
   "metadata": {},
   "outputs": [],
   "source": [
    "service = Service(ChromeDriverManager().install())\n",
    "\n",
    "options = Options()\n",
    "options.add_argument(\"--start-maximized\")  # abre tela cheia\n",
    "options.add_argument(\"--window-size=1280,800\")  # define tamanho manual\n",
    "options.add_argument(\"--incognito\")  # modo anônimo\n",
    "options.add_argument(\"--disable-notifications\")  # bloqueia pop-ups de notificação\n",
    "options.add_argument(\"--disable-extensions\")  # desativa extensões\n",
    "options.add_argument(\"--disable-popup-blocking\")  # desativa bloqueador de pop-ups\n",
    "options.add_argument(\"--disable-infobars\")  # remove \"Chrome is being controlled by automated test software\"\n",
    "options.add_argument(\"--no-sandbox\")  # útil em servidores Linux\n",
    "options.add_argument(\"--disable-dev-shm-usage\")  # previne erros de memória em containers\n",
    "options.add_argument(\"--remote-debugging-port=9222\")  # habilita inspeção remota\n",
    "#options.headlessess = True\n",
    "driver = webdriver.Chrome(service=service, options=options)\n",
    "driver.get('https://valor.globo.com/')\n",
    "driver.maximize_window()\n",
    "driver.find_element(By.CLASS_NAME, 'close').find_element(By.TAG_NAME, 'img').click()\n",
    "#time.sleep(5)\n",
    "driver.quit()\n"
   ]
  },
  {
   "cell_type": "code",
   "execution_count": null,
   "id": "3e50d09d",
   "metadata": {},
   "outputs": [],
   "source": [
    "cards = driver.find_elements(By.CLASS_NAME, 'card card_container')\n",
    "cards = driver.find_elements(By.CSS_SELECTOR, '.card.card_container')\n",
    "cards = driver.find_elements(By.XPATH, '//*[@id=\"content-container\"]/div/main/div/div[1]')\n",
    "cards = driver.find_elements(By.TAG_NAME, 'a')"
   ]
  },
  {
   "cell_type": "code",
   "execution_count": null,
   "id": "57563192",
   "metadata": {},
   "outputs": [],
   "source": [
    "\n",
    "card = driver.find_element(By.CLASS_NAME, 'card card_container')\n",
    "card = driver.find_element(By.CSS_SELECTOR, '.card.card_container')\n",
    "card = driver.find_element(By.XPATH, '//*[@id=\"content-container\"]/div/main/div/div[1]')"
   ]
  },
  {
   "cell_type": "code",
   "execution_count": null,
   "id": "6d35953a",
   "metadata": {},
   "outputs": [],
   "source": [
    "opts = webdriver.ChromeOptions()\n",
    "\n",
    "opts.add_argument(\"--start-maximized\")  # abre tela cheia\n",
    "opts.add_argument(\"--window-size=1280,800\")  # define tamanho manual\n",
    "opts.add_argument(\"--incognito\")  # modo anônimo\n",
    "opts.add_argument(\"--disable-notifications\")  # bloqueia pop-ups de notificação\n",
    "opts.add_argument(\"--disable-extensions\")  # desativa extensões\n",
    "opts.add_argument(\"--disable-popup-blocking\")  # desativa bloqueador de pop-ups\n",
    "opts.add_argument(\"--disable-infobars\")  # remove \"Chrome is being controlled by automated test software\"\n",
    "opts.add_argument(\"--no-sandbox\")  # útil em servidores Linux\n",
    "opts.add_argument(\"--disable-dev-shm-usage\")  # previne erros de memória em containers\n",
    "opts.add_argument(\"--remote-debugging-port=9222\")  # habilita inspeção remota"
   ]
  },
  {
   "cell_type": "code",
   "execution_count": 1,
   "id": "2535f5a8",
   "metadata": {},
   "outputs": [
    {
     "name": "stdout",
     "output_type": "stream",
     "text": [
      "Navegou para: https://www.scrapingcourse.com/ecommerce/\n"
     ]
    }
   ],
   "source": [
    "import time\n",
    "from selenium import webdriver\n",
    "from selenium.webdriver.common.by import By\n",
    "from selenium.webdriver.chrome.options import Options\n",
    "from selenium.webdriver.support.ui import WebDriverWait\n",
    "from selenium.webdriver.support import expected_conditions as EC\n",
    "\n",
    "\n",
    "from selenium.webdriver.chrome.service import Service\n",
    "from webdriver_manager.chrome import ChromeDriverManager\n",
    "\n",
    "service = Service(ChromeDriverManager().install())\n",
    "options = Options()\n",
    "#options.headlessess = True\n",
    "driver = webdriver.Chrome(service=service, options=options)\n",
    "driver.get('https://www.scrapingcourse.com')\n",
    "\n",
    "links = driver.find_elements(By.LINK_TEXT, 'See Page')\n",
    "\n",
    "if links:\n",
    "    links[0].click()\n",
    "    print(f'Navegou para: {driver.current_url}')\n",
    "else:\n",
    "    print('Nenhum link que atenda ao padrão buscado')\n",
    "\n",
    "time.sleep(10)\n",
    "\n",
    "driver.quit()"
   ]
  },
  {
   "cell_type": "code",
   "execution_count": null,
   "id": "dbf44eab",
   "metadata": {},
   "outputs": [
    {
     "name": "stdout",
     "output_type": "stream",
     "text": [
      "Nenhum link que atenda ao padrão buscado\n"
     ]
    }
   ],
   "source": []
  },
  {
   "cell_type": "code",
   "execution_count": 5,
   "id": "32f468c1",
   "metadata": {},
   "outputs": [],
   "source": [
    "def try_click_checkbox(driver, wait, by, selector, descr=\"\"):\n",
    "    try:\n",
    "        el = wait.until(EC.element_to_be_clickable((by, selector)))\n",
    "        # scroll into view\n",
    "        driver.execute_script(\"arguments[0].scrollIntoView({block: 'center'});\", el)\n",
    "        el.click()\n",
    "        # pequeno delay para mudança de estado\n",
    "        time.sleep(0.5)\n",
    "        checked = el.get_attribute(\"checked\") or el.is_selected()\n",
    "        print(f\"[OK] {descr} -> clicado. Estado 'checked': {checked}\")\n",
    "        return True\n",
    "    except Exception as e:\n",
    "        # não falha aqui, apenas reporta\n",
    "        print(f\"[NÃO] {descr} -> não encontrado/clicável ({e.__class__.__name__})\")\n",
    "        return False"
   ]
  },
  {
   "cell_type": "code",
   "execution_count": 11,
   "id": "21dbddf8",
   "metadata": {},
   "outputs": [],
   "source": [
    "def find_and_click_checkbox(driver, timeout=15):\n",
    "    wait = WebDriverWait(driver, timeout)\n",
    "    # tentativa direta no DOM principal com seletores comuns\n",
    "    candidates = [\n",
    "        #(By.CSS_SELECTOR, \"input[type='checkbox']\"),\n",
    "        #(By.CSS_SELECTOR, \"input[type='checkbox'][id]\"),\n",
    "        #(By.CSS_SELECTOR, \"input[type='checkbox'][name]\"),\n",
    "        #(By.XPATH, \"//input[@type='checkbox']\"),\n",
    "        #(By.CSS_SELECTOR, \"label input[type='checkbox']\"),\n",
    "        #(By.CSS_SELECTOR, \".checkbox input[type='checkbox']\"),\n",
    "        (By.XPATH, \"/html/body//div/div/div[1]/div/label/\"),\n",
    "    ]\n",
    "\n",
    "    for by, selector in candidates:\n",
    "        if try_click_checkbox(driver, wait, by, selector, f\"selector `{selector}`\"):\n",
    "            return True\n",
    "\n",
    "    # se não achou no DOM principal, tentar dentro de iframes (muitas pages de proteção usam iframes)\n",
    "    frames = driver.find_elements(By.TAG_NAME, \"iframe\")\n",
    "    print(f\"Procurando em iframes... encontrado(s): {len(frames)}\")\n",
    "    for i, frame in enumerate(frames):\n",
    "        try:\n",
    "            driver.switch_to.frame(frame)\n",
    "            print(f\" - Entrando no iframe #{i}\")\n",
    "            for by, selector in candidates:\n",
    "                if try_click_checkbox(driver, wait, by, selector, f\"iframe #{i} selector `{selector}`\"):\n",
    "                    driver.switch_to.default_content()\n",
    "                    return True\n",
    "        except Exception as e:\n",
    "            print(f\" - Erro ao acessar iframe #{i}: {e}\")\n",
    "        finally:\n",
    "            # sempre voltar ao contexto principal antes de próxima iteração\n",
    "            driver.switch_to.default_content()\n",
    "\n",
    "    print(\"Checkbox não encontrado automaticamente. Pode ser necessário inspecionar o DOM e ajustar seletores.\")\n",
    "    return False"
   ]
  },
  {
   "cell_type": "code",
   "execution_count": 12,
   "id": "ac725e39",
   "metadata": {},
   "outputs": [
    {
     "name": "stdout",
     "output_type": "stream",
     "text": [
      "Nenhum link que atenda ao padrão buscado\n",
      "[NÃO] selector `/html/body//div/div/div[1]/div/label/` -> não encontrado/clicável (InvalidSelectorException)\n",
      "Procurando em iframes... encontrado(s): 0\n",
      "Checkbox não encontrado automaticamente. Pode ser necessário inspecionar o DOM e ajustar seletores.\n"
     ]
    }
   ],
   "source": [
    "import time\n",
    "from selenium import webdriver\n",
    "from selenium.webdriver.common.by import By\n",
    "from selenium.webdriver.chrome.options import Options\n",
    "from selenium.webdriver.support.ui import WebDriverWait\n",
    "from selenium.webdriver.support import expected_conditions as EC\n",
    "\n",
    "\n",
    "from selenium.webdriver.chrome.service import Service\n",
    "from webdriver_manager.chrome import ChromeDriverManager\n",
    "\n",
    "service = Service(ChromeDriverManager().install())\n",
    "options = Options()\n",
    "#options.headlessess = True\n",
    "driver = webdriver.Chrome(service=service, options=options)\n",
    "driver.get('https://www.scrapingcourse.com/login/cf-antibot')\n",
    "\n",
    "links = driver.find_elements(By.LINK_TEXT, 'See Page')\n",
    "\n",
    "if links:\n",
    "    links[0].click()\n",
    "    print(f'Navegou para: {driver.current_url}')\n",
    "else:\n",
    "    print('Nenhum link que atenda ao padrão buscado')\n",
    "\n",
    "time.sleep(10)\n",
    "\n",
    "#driver.quit()\n",
    "found = find_and_click_checkbox(driver, timeout=10)"
   ]
  },
  {
   "cell_type": "code",
   "execution_count": null,
   "id": "26b54058",
   "metadata": {},
   "outputs": [],
   "source": []
  },
  {
   "cell_type": "code",
   "execution_count": null,
   "id": "1f4fecec",
   "metadata": {},
   "outputs": [
    {
     "name": "stdout",
     "output_type": "stream",
     "text": [
      "Erro ao clicar no checkbox: Message: \n",
      "Stacktrace:\n",
      "\tGetHandleVerifier [0x0xc3c333+65459]\n",
      "\tGetHandleVerifier [0x0xc3c374+65524]\n",
      "\t(No symbol) [0x0xa5d973]\n",
      "\t(No symbol) [0x0xaa76e7]\n",
      "\t(No symbol) [0x0xaa7a8b]\n",
      "\t(No symbol) [0x0xaedea2]\n",
      "\t(No symbol) [0x0xac9e44]\n",
      "\t(No symbol) [0x0xaeb606]\n",
      "\t(No symbol) [0x0xac9bf6]\n",
      "\t(No symbol) [0x0xa9b38e]\n",
      "\t(No symbol) [0x0xa9c274]\n",
      "\tGetHandleVerifier [0x0xebeda3+2697763]\n",
      "\tGetHandleVerifier [0x0xeb9ec7+2677575]\n",
      "\tGetHandleVerifier [0x0xc64194+228884]\n",
      "\tGetHandleVerifier [0x0xc549f8+165496]\n",
      "\tGetHandleVerifier [0x0xc5b18d+192013]\n",
      "\tGetHandleVerifier [0x0xc447d8+99416]\n",
      "\tGetHandleVerifier [0x0xc44972+99826]\n",
      "\tGetHandleVerifier [0x0xc2ebea+10346]\n",
      "\tBaseThreadInitThunk [0x0x75fe5d49+25]\n",
      "\tRtlInitializeExceptionChain [0x0x77d8d6db+107]\n",
      "\tRtlGetAppContainerNamedObjectPath [0x0x77d8d661+561]\n",
      "\n"
     ]
    }
   ],
   "source": [
    "from selenium import webdriver\n",
    "from selenium.webdriver.common.by import By\n",
    "from selenium.webdriver.chrome.service import Service as ChromeService\n",
    "from selenium.webdriver.support.ui import WebDriverWait\n",
    "from selenium.webdriver.support import expected_conditions as EC\n",
    "from webdriver_manager.chrome import ChromeDriverManager\n",
    "import time\n",
    "\n",
    "# Configurar e iniciar o navegador\n",
    "options = webdriver.ChromeOptions()\n",
    "options.add_argument('--start-maximized')  # abre em tela cheia (opcional)\n",
    "\n",
    "driver = webdriver.Chrome(service=ChromeService(ChromeDriverManager().install()), options=options)\n",
    "\n",
    "try:\n",
    "    # A URL que você quer acessar\n",
    "    url = \"https://www.scrapingcourse.com/login/cf-antibot\"  # ou qualquer outra página\n",
    "    driver.get(url)\n",
    "\n",
    "    wait = WebDriverWait(driver, 10)\n",
    "\n",
    "    # Espera o carregamento do body\n",
    "    wait.until(EC.presence_of_element_located((By.TAG_NAME, \"body\")))\n",
    "\n",
    "    # Procura o primeiro checkbox na página\n",
    "    checkbox = wait.until(EC.presence_of_element_located((By.CSS_SELECTOR, \"input[type='checkbox']\")))\n",
    "\n",
    "    # Rola até o elemento (caso esteja fora da tela)\n",
    "    driver.execute_script(\"arguments[0].scrollIntoView({block: 'center'});\", checkbox)\n",
    "\n",
    "    # Clica no checkbox\n",
    "    checkbox.click()\n",
    "    print(\"Checkbox clicado com sucesso!\")\n",
    "\n",
    "    # Espera para você ver o resultado (remova em produção)\n",
    "    time.sleep(5)\n",
    "\n",
    "except Exception as e:\n",
    "    print(f\"Erro ao clicar no checkbox: {e}\")\n"
   ]
  },
  {
   "cell_type": "code",
   "execution_count": null,
   "id": "d736fa5c",
   "metadata": {},
   "outputs": [],
   "source": []
  },
  {
   "cell_type": "code",
   "execution_count": null,
   "id": "712943fc",
   "metadata": {},
   "outputs": [],
   "source": []
  },
  {
   "cell_type": "code",
   "execution_count": null,
   "id": "ed6f2d55",
   "metadata": {},
   "outputs": [],
   "source": []
  },
  {
   "cell_type": "code",
   "execution_count": null,
   "id": "35832afb",
   "metadata": {},
   "outputs": [],
   "source": []
  },
  {
   "cell_type": "code",
   "execution_count": null,
   "id": "ce6114f1",
   "metadata": {},
   "outputs": [],
   "source": []
  }
 ],
 "metadata": {
  "kernelspec": {
   "display_name": "base",
   "language": "python",
   "name": "python3"
  },
  "language_info": {
   "codemirror_mode": {
    "name": "ipython",
    "version": 3
   },
   "file_extension": ".py",
   "mimetype": "text/x-python",
   "name": "python",
   "nbconvert_exporter": "python",
   "pygments_lexer": "ipython3",
   "version": "3.12.7"
  }
 },
 "nbformat": 4,
 "nbformat_minor": 5
}
