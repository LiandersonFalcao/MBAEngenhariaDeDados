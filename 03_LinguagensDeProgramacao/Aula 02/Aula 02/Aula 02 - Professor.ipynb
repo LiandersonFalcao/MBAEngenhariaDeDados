{
 "cells": [
  {
   "cell_type": "markdown",
   "id": "92300e35",
   "metadata": {},
   "source": [
    "# Aula 2 – Funções e Manipulação de Arquivos com Python \n",
    "\n",
    "\n",
    "## 📌 Tópicos da Aula\n",
    "\n",
    "- Definição e uso de funções\n",
    "- Escopo de variáveis\n",
    "- Funções anônimas (lambda)\n",
    "- Manipulação de arquivos (`.txt`, `.csv`, `.json`)\n",
    "- Navegação de diretórios com `os` e `pathlib`\n",
    "- Boas práticas em estrutura de scripts\n",
    "- Logging básico\n",
    "\n",
    "---"
   ]
  },
  {
   "cell_type": "markdown",
   "id": "df1d42d9",
   "metadata": {},
   "source": [
    "## 0. ETL\n",
    "\n",
    "E = Extract\n",
    "T = Transform\n",
    "L = Load\n",
    "\n",
    "DW = DataWarehouse\n",
    "\n",
    "DM = DataMarts"
   ]
  },
  {
   "cell_type": "markdown",
   "id": "07ee3b69",
   "metadata": {},
   "source": [
    "## 🐍 1. Funções em Python\n",
    "\n",
    "### 📚 Definição\n",
    "\n",
    "Uma função é um bloco de código reutilizável que executa uma tarefa específica.\n",
    "\n",
    "```python\n",
    "def calcular_total(valor, desconto=0):\n",
    "    return valor - (valor * desconto)\n",
    "```"
   ]
  },
  {
   "cell_type": "markdown",
   "id": "e1fd1283",
   "metadata": {},
   "source": [
    "Exemplo real:\n",
    "> Em um pipeline de precificação, o engenheiro de dados aplica descontos automaticamente nos valores de entrada.\n",
    "```python\n",
    "preco_final = calcular_total(1200, desconto=0.1)\n",
    "```"
   ]
  },
  {
   "cell_type": "code",
   "execution_count": null,
   "id": "ef684435",
   "metadata": {},
   "outputs": [],
   "source": [
    "#pydantic"
   ]
  },
  {
   "cell_type": "code",
   "execution_count": 3,
   "id": "5b9dd05c",
   "metadata": {},
   "outputs": [
    {
     "data": {
      "text/plain": [
       "'dvstp!ef!fohfoibsjb!ef!ebept'"
      ]
     },
     "execution_count": 3,
     "metadata": {},
     "output_type": "execute_result"
    }
   ],
   "source": [
    "def encriptar(msg: str):\n",
    "    lista = list(msg)\n",
    "\n",
    "    for i in range(len(lista)):\n",
    "        lista[i] = chr(ord(lista[i])+1)\n",
    "\n",
    "    return ''.join(lista)\n",
    "\n",
    "encriptar('curso de engenharia de dados')"
   ]
  },
  {
   "cell_type": "code",
   "execution_count": 21,
   "id": "1dde61e9",
   "metadata": {},
   "outputs": [],
   "source": [
    "# parametro nomeável\n",
    "# parametro de valor padrão\n",
    "# /\n",
    "# args\n",
    "# kwargs\n",
    "def funcao(a, b=10):\n",
    "    return a+b"
   ]
  },
  {
   "cell_type": "code",
   "execution_count": 20,
   "id": "d07bd1c8",
   "metadata": {},
   "outputs": [
    {
     "name": "stdout",
     "output_type": "stream",
     "text": [
      "1 2 3\n"
     ]
    }
   ],
   "source": [
    "lista = [1, 2, 3]\n",
    "funcao(lista)"
   ]
  },
  {
   "cell_type": "code",
   "execution_count": 24,
   "id": "4216d03f",
   "metadata": {},
   "outputs": [
    {
     "data": {
      "text/plain": [
       "20"
      ]
     },
     "execution_count": 24,
     "metadata": {},
     "output_type": "execute_result"
    }
   ],
   "source": [
    "funcao(10)"
   ]
  },
  {
   "cell_type": "code",
   "execution_count": 22,
   "id": "08b3a0cd",
   "metadata": {},
   "outputs": [
    {
     "ename": "SyntaxError",
     "evalue": "invalid syntax. Perhaps you forgot a comma? (1761543523.py, line 2)",
     "output_type": "error",
     "traceback": [
      "\u001b[1;36m  Cell \u001b[1;32mIn[22], line 2\u001b[1;36m\u001b[0m\n\u001b[1;33m    funcao(10, 30, 60, 120, 130, 140 150, x=10, y=20)\u001b[0m\n\u001b[1;37m                                 ^\u001b[0m\n\u001b[1;31mSyntaxError\u001b[0m\u001b[1;31m:\u001b[0m invalid syntax. Perhaps you forgot a comma?\n"
     ]
    }
   ],
   "source": [
    "#      a    b  [       c            ][    d      ] \n",
    "funcao(10, 30, 60, 120, 130, 140 150, x=10, y=20)"
   ]
  },
  {
   "cell_type": "code",
   "execution_count": 9,
   "id": "9f3b86f5",
   "metadata": {},
   "outputs": [
    {
     "data": {
      "text/plain": [
       "{'x': 10, 'y': 20}"
      ]
     },
     "execution_count": 9,
     "metadata": {},
     "output_type": "execute_result"
    }
   ],
   "source": [
    "d = {'x':10, 'y':20}\n",
    "d"
   ]
  },
  {
   "cell_type": "code",
   "execution_count": 2,
   "id": "8200d09a",
   "metadata": {},
   "outputs": [
    {
     "data": {
      "text/html": [
       "<div>\n",
       "<style scoped>\n",
       "    .dataframe tbody tr th:only-of-type {\n",
       "        vertical-align: middle;\n",
       "    }\n",
       "\n",
       "    .dataframe tbody tr th {\n",
       "        vertical-align: top;\n",
       "    }\n",
       "\n",
       "    .dataframe thead th {\n",
       "        text-align: right;\n",
       "    }\n",
       "</style>\n",
       "<table border=\"1\" class=\"dataframe\">\n",
       "  <thead>\n",
       "    <tr style=\"text-align: right;\">\n",
       "      <th></th>\n",
       "      <th>numeroAgendamento</th>\n",
       "      <th>numeroAtendimento</th>\n",
       "      <th>percentualAtendimento</th>\n",
       "      <th>codigoMunicipio</th>\n",
       "      <th>municipio</th>\n",
       "    </tr>\n",
       "  </thead>\n",
       "  <tbody>\n",
       "    <tr>\n",
       "      <th>0</th>\n",
       "      <td>1184</td>\n",
       "      <td>788</td>\n",
       "      <td>66.55</td>\n",
       "      <td>230010</td>\n",
       "      <td>ABAIARA</td>\n",
       "    </tr>\n",
       "    <tr>\n",
       "      <th>1</th>\n",
       "      <td>700</td>\n",
       "      <td>585</td>\n",
       "      <td>83.57</td>\n",
       "      <td>230015</td>\n",
       "      <td>ACARAPE</td>\n",
       "    </tr>\n",
       "    <tr>\n",
       "      <th>2</th>\n",
       "      <td>19902</td>\n",
       "      <td>14417</td>\n",
       "      <td>72.44</td>\n",
       "      <td>230020</td>\n",
       "      <td>ACARAÚ</td>\n",
       "    </tr>\n",
       "    <tr>\n",
       "      <th>3</th>\n",
       "      <td>626</td>\n",
       "      <td>505</td>\n",
       "      <td>80.67</td>\n",
       "      <td>230030</td>\n",
       "      <td>ACOPIARA</td>\n",
       "    </tr>\n",
       "    <tr>\n",
       "      <th>4</th>\n",
       "      <td>897</td>\n",
       "      <td>663</td>\n",
       "      <td>73.91</td>\n",
       "      <td>230040</td>\n",
       "      <td>AIUABA</td>\n",
       "    </tr>\n",
       "    <tr>\n",
       "      <th>...</th>\n",
       "      <td>...</td>\n",
       "      <td>...</td>\n",
       "      <td>...</td>\n",
       "      <td>...</td>\n",
       "      <td>...</td>\n",
       "    </tr>\n",
       "    <tr>\n",
       "      <th>177</th>\n",
       "      <td>1231</td>\n",
       "      <td>793</td>\n",
       "      <td>64.42</td>\n",
       "      <td>231375</td>\n",
       "      <td>UMIRIM</td>\n",
       "    </tr>\n",
       "    <tr>\n",
       "      <th>178</th>\n",
       "      <td>1378</td>\n",
       "      <td>897</td>\n",
       "      <td>65.09</td>\n",
       "      <td>231380</td>\n",
       "      <td>URUBURETAMA</td>\n",
       "    </tr>\n",
       "    <tr>\n",
       "      <th>179</th>\n",
       "      <td>407</td>\n",
       "      <td>285</td>\n",
       "      <td>70.02</td>\n",
       "      <td>231390</td>\n",
       "      <td>URUOCA</td>\n",
       "    </tr>\n",
       "    <tr>\n",
       "      <th>180</th>\n",
       "      <td>1181</td>\n",
       "      <td>818</td>\n",
       "      <td>69.26</td>\n",
       "      <td>231395</td>\n",
       "      <td>VARJOTA</td>\n",
       "    </tr>\n",
       "    <tr>\n",
       "      <th>181</th>\n",
       "      <td>5634</td>\n",
       "      <td>3489</td>\n",
       "      <td>61.93</td>\n",
       "      <td>231410</td>\n",
       "      <td>VICÓSA DO CEARA</td>\n",
       "    </tr>\n",
       "  </tbody>\n",
       "</table>\n",
       "<p>182 rows × 5 columns</p>\n",
       "</div>"
      ],
      "text/plain": [
       "     numeroAgendamento  numeroAtendimento  percentualAtendimento  \\\n",
       "0                 1184                788                  66.55   \n",
       "1                  700                585                  83.57   \n",
       "2                19902              14417                  72.44   \n",
       "3                  626                505                  80.67   \n",
       "4                  897                663                  73.91   \n",
       "..                 ...                ...                    ...   \n",
       "177               1231                793                  64.42   \n",
       "178               1378                897                  65.09   \n",
       "179                407                285                  70.02   \n",
       "180               1181                818                  69.26   \n",
       "181               5634               3489                  61.93   \n",
       "\n",
       "     codigoMunicipio        municipio  \n",
       "0             230010          ABAIARA  \n",
       "1             230015          ACARAPE  \n",
       "2             230020           ACARAÚ  \n",
       "3             230030         ACOPIARA  \n",
       "4             230040           AIUABA  \n",
       "..               ...              ...  \n",
       "177           231375           UMIRIM  \n",
       "178           231380      URUBURETAMA  \n",
       "179           231390           URUOCA  \n",
       "180           231395          VARJOTA  \n",
       "181           231410  VICÓSA DO CEARA  \n",
       "\n",
       "[182 rows x 5 columns]"
      ]
     },
     "execution_count": 2,
     "metadata": {},
     "output_type": "execute_result"
    }
   ],
   "source": [
    "import pandas as pd\n",
    "\n",
    "pd.read_json('https://integrasus.saude.ce.gov.br/api/consultas-ceos/card-mapa-tabela?dataInicio=2024-01-01&dataFim=2025-05-31&codigoCEO=&especialidade=')"
   ]
  },
  {
   "cell_type": "code",
   "execution_count": null,
   "id": "2ebe51e1",
   "metadata": {},
   "outputs": [],
   "source": []
  },
  {
   "cell_type": "markdown",
   "id": "192dcd9b",
   "metadata": {},
   "source": [
    "### 🗺️ 2. Escopo de Variáveis\n",
    "> **Global**: variável definida fora da função\n",
    "\n",
    "> **Local**: variável definida dentro da função"
   ]
  },
  {
   "cell_type": "code",
   "execution_count": 1,
   "id": "580167e7",
   "metadata": {},
   "outputs": [
    {
     "name": "stdout",
     "output_type": "stream",
     "text": [
      "0.1\n",
      "1.2\n",
      "0.1\n"
     ]
    }
   ],
   "source": [
    "taxa = 0.1\n",
    "\n",
    "def aplicar_taxa(valor):\n",
    "    taxa = 0.2\n",
    "    return valor * (1 + taxa)\n",
    "\n",
    "\n",
    "print(taxa)\n",
    "print(aplicar_taxa(1))\n",
    "print(taxa)"
   ]
  },
  {
   "cell_type": "markdown",
   "id": "2d59a772",
   "metadata": {},
   "source": [
    "### 📂3. Navegação de Diretórios\n",
    "Usando o módulo os:"
   ]
  },
  {
   "cell_type": "code",
   "execution_count": 26,
   "id": "75c2af6a",
   "metadata": {},
   "outputs": [
    {
     "name": "stdout",
     "output_type": "stream",
     "text": [
      "C:\\Users\\ProDigital\\Machine\\UNIFOR\\ENG.DADOS\\T2\\Programação\\Aula 02\n"
     ]
    }
   ],
   "source": [
    "import os\n",
    "\n",
    "# Ver caminho atual\n",
    "print(os.getcwd())"
   ]
  },
  {
   "cell_type": "code",
   "execution_count": 27,
   "id": "33505cec",
   "metadata": {},
   "outputs": [
    {
     "name": "stdout",
     "output_type": "stream",
     "text": [
      "['.ipynb_checkpoints', 'Atividade.ipynb', 'Aula 01 - Material Auxiliar - Compreensions e Geradores.ipynb', 'Aula 02 - Professor.ipynb', 'Aula 2 - Arquivos.ipynb', 'Aula 2 - Conceitos de Programacao Funcional.ipynb', 'Aula 2 - Tratamento de Excecao.ipynb', 'clientes.csv', 'dados', 'emails.txt', 'log_execucao.txt', 'LPI - Aula 05 - Funções - Pós-aula.ipynb', 'nomes_arquivos.txt', 'transacoes.log']\n"
     ]
    }
   ],
   "source": [
    "# Listar arquivos no diretório atual\n",
    "print(os.listdir())"
   ]
  },
  {
   "cell_type": "code",
   "execution_count": 28,
   "id": "9017793f",
   "metadata": {},
   "outputs": [],
   "source": [
    "# Criar diretório (se não existir)\n",
    "os.makedirs(\"dados/raw\", exist_ok=True)"
   ]
  },
  {
   "cell_type": "code",
   "execution_count": 49,
   "id": "ab85ce88",
   "metadata": {},
   "outputs": [],
   "source": [
    "if os.path.exists(\"dados/raw\"):\n",
    "    os.rmdir(\"dados/raw\")\n",
    "    os.remove('caminho')\n",
    "else:\n",
    "    print(\"The file does not exist\")"
   ]
  },
  {
   "cell_type": "markdown",
   "id": "bb2ff113",
   "metadata": {},
   "source": [
    "### 4. Variáveis de ambiente"
   ]
  },
  {
   "cell_type": "code",
   "execution_count": 40,
   "id": "0248ed57",
   "metadata": {},
   "outputs": [],
   "source": [
    "os.environ[\"usuario\"] = \"aluno\"\n",
    "os.environ[\"senha\"] = \"swordfish\""
   ]
  },
  {
   "cell_type": "code",
   "execution_count": 42,
   "id": "2649dcc3",
   "metadata": {},
   "outputs": [
    {
     "data": {
      "text/plain": [
       "'swordfish'"
      ]
     },
     "execution_count": 42,
     "metadata": {},
     "output_type": "execute_result"
    }
   ],
   "source": [
    "os.environ[\"usuario\"]"
   ]
  },
  {
   "cell_type": "code",
   "execution_count": 43,
   "id": "3142f641",
   "metadata": {},
   "outputs": [
    {
     "data": {
      "text/plain": [
       "'aluno'"
      ]
     },
     "execution_count": 43,
     "metadata": {},
     "output_type": "execute_result"
    }
   ],
   "source": [
    "os.getenv('usuario')"
   ]
  },
  {
   "cell_type": "code",
   "execution_count": 44,
   "id": "c8e9dbe3",
   "metadata": {},
   "outputs": [
    {
     "ename": "KeyError",
     "evalue": "'admin'",
     "output_type": "error",
     "traceback": [
      "\u001b[1;31m---------------------------------------------------------------------------\u001b[0m",
      "\u001b[1;31mKeyError\u001b[0m                                  Traceback (most recent call last)",
      "Cell \u001b[1;32mIn[44], line 1\u001b[0m\n\u001b[1;32m----> 1\u001b[0m os\u001b[38;5;241m.\u001b[39menviron[\u001b[38;5;124m\"\u001b[39m\u001b[38;5;124madmin\u001b[39m\u001b[38;5;124m\"\u001b[39m]\n",
      "File \u001b[1;32m<frozen os>:714\u001b[0m, in \u001b[0;36m__getitem__\u001b[1;34m(self, key)\u001b[0m\n",
      "\u001b[1;31mKeyError\u001b[0m: 'admin'"
     ]
    }
   ],
   "source": [
    "os.environ[\"admin\"]"
   ]
  },
  {
   "cell_type": "code",
   "execution_count": 29,
   "id": "d3d219b2",
   "metadata": {},
   "outputs": [],
   "source": [
    "os.getenv('admin')"
   ]
  },
  {
   "cell_type": "markdown",
   "id": "75318fba",
   "metadata": {},
   "source": [
    "### 📁 5. Manipulação de Arquivos\n",
    "🔹 Leitura de .txt"
   ]
  },
  {
   "cell_type": "code",
   "execution_count": 37,
   "id": "f0a139c8",
   "metadata": {},
   "outputs": [
    {
     "name": "stdout",
     "output_type": "stream",
     "text": [
      "Arquivo criado com sucesso!\n"
     ]
    }
   ],
   "source": [
    "with open(\"log_execucao.txt\", \"w\") as f:\n",
    "    f.write(\"Execução concluída com sucesso.\")\n",
    "    \n",
    "print('Arquivo criado com sucesso!')"
   ]
  },
  {
   "cell_type": "code",
   "execution_count": 31,
   "id": "9d7ef17b",
   "metadata": {},
   "outputs": [
    {
     "name": "stdout",
     "output_type": "stream",
     "text": [
      "Execução concluída com sucesso.\n"
     ]
    }
   ],
   "source": [
    "with open(\"log_execucao.txt\", \"r\") as f:\n",
    "    conteudo = f.read()\n",
    "    print(conteudo)"
   ]
  },
  {
   "cell_type": "markdown",
   "id": "0583d38e",
   "metadata": {},
   "source": [
    "### 📦  Exemplo real: Logging de Execução\n",
    "Um engenheiro de dados deseja registrar se a carga de um arquivo foi bem-sucedida ou não."
   ]
  },
  {
   "cell_type": "code",
   "execution_count": null,
   "id": "90204904",
   "metadata": {},
   "outputs": [],
   "source": [
    "def registrar_log(mensagem, arquivo=\"log.txt\"):\n",
    "    with open(arquivo, \"a\") as f:\n",
    "        f.write(mensagem + \"\\n\")\n",
    "\n",
    "try:\n",
    "    df = pd.read_csv(\"dados/clientes.csv\")\n",
    "    registrar_log(\"Arquivo lido com sucesso.\")\n",
    "except Exception as e:\n",
    "    registrar_log(f\"Erro ao ler arquivo: {str(e)}\")\n"
   ]
  },
  {
   "cell_type": "code",
   "execution_count": null,
   "id": "49abebd7",
   "metadata": {},
   "outputs": [],
   "source": []
  },
  {
   "cell_type": "markdown",
   "id": "3f06485f",
   "metadata": {},
   "source": [
    "## 🧾 6. Logging com a biblioteca `logging`\n",
    "\n",
    "A biblioteca `logging` é recomendada para **registrar eventos**, **erros** e **comportamentos esperados** ao longo da execução de scripts.\n",
    "\n",
    "É mais robusta e flexível do que gravar diretamente com `open()`.\n",
    "\n",
    "---\n",
    "\n",
    "### 🛠️ Configuração básica\n",
    "\n",
    "```python\n",
    "import logging\n",
    "\n",
    "logging.basicConfig(\n",
    "    filename='logs/execucao_pipeline.log',\n",
    "    level=logging.INFO,\n",
    "    format='%(asctime)s | %(levelname)s | %(message)s'\n",
    ")\n"
   ]
  },
  {
   "cell_type": "markdown",
   "id": "4cb40bf8",
   "metadata": {},
   "source": [
    "### Mensagens de diferentes níveis\n",
    "\n",
    "```python\n",
    "logging.info(\"Início do carregamento de dados\")\n",
    "logging.warning(\"Faltam colunas esperadas no arquivo\")\n",
    "logging.error(\"Erro de leitura do arquivo de entrada\")\n",
    "logging.debug(\"Valor da variável x: %s\", 42)\n",
    "```"
   ]
  },
  {
   "cell_type": "code",
   "execution_count": 2,
   "id": "10b57700",
   "metadata": {},
   "outputs": [],
   "source": [
    "import os\n",
    "import logging\n",
    "\n",
    "os.makedirs(\"logs\", exist_ok=True)\n",
    "\n",
    "with open('logs/execucao_pipeline.log', 'w') as fp:\n",
    "    pass\n",
    "\n",
    "logging.basicConfig(\n",
    "    filename='logs/execucao_pipeline.log',\n",
    "    level=logging.INFO,\n",
    "    format='%(asctime)s | %(levelname)s | %(message)s'\n",
    ")"
   ]
  },
  {
   "cell_type": "code",
   "execution_count": 7,
   "id": "e47ead83",
   "metadata": {
    "scrolled": true
   },
   "outputs": [
    {
     "name": "stdout",
     "output_type": "stream",
     "text": [
      "Erro na leitura do arquivo.\n"
     ]
    }
   ],
   "source": [
    "def extract():\n",
    "    try:\n",
    "        arquivo = open('arquivo.txt','r')\n",
    "        print('arquivo criado')\n",
    "        logging.info(\"Arquivo carregado com sucesso\")\n",
    "        status = 'SUCCESS'\n",
    "    except:\n",
    "        print('Erro na leitura do arquivo.')    \n",
    "        logging.error(\"Erro na leitura do arquivo.\")\n",
    "        status = 'ERROR'\n",
    "    finnaly:\n",
    "        if status == 'SUCCESS'\n",
    "            return 1\n",
    "        else:\n",
    "            return 0\n",
    "        \n",
    "        \n",
    "def transform():\n",
    "    logging.info(\"Início da transformação\")\n",
    "    logging.info(\"Limpeza da base\")\n",
    "    logging.info(\"Imputação de dados\")   \n",
    "    \n",
    "def load():\n",
    "    logging.info(\"Início do carregamento de dados\")\n",
    "    logging.info(\"Carregamento de dados concluído\")\n",
    "\n",
    "    \n",
    "extract()\n",
    "transform()\n",
    "load()\n",
    "\n",
    "logging.info(\"ETL CONCLUÍDO\")    "
   ]
  },
  {
   "cell_type": "code",
   "execution_count": null,
   "id": "da2ed1c0",
   "metadata": {},
   "outputs": [],
   "source": []
  },
  {
   "cell_type": "code",
   "execution_count": 5,
   "id": "4c1c413e",
   "metadata": {},
   "outputs": [
    {
     "name": "stdout",
     "output_type": "stream",
     "text": [
      "Erro na leitura do arquivo.\n"
     ]
    }
   ],
   "source": [
    "try:\n",
    "    arquivo = open('arquivo.txt','r')\n",
    "    print('arquivo criado')\n",
    "except:\n",
    "    print('Erro na leitura do arquivo.')"
   ]
  },
  {
   "cell_type": "code",
   "execution_count": null,
   "id": "6d2051bc",
   "metadata": {},
   "outputs": [],
   "source": []
  },
  {
   "cell_type": "code",
   "execution_count": null,
   "id": "02866202",
   "metadata": {},
   "outputs": [],
   "source": []
  },
  {
   "cell_type": "markdown",
   "id": "7ff0a9c4",
   "metadata": {},
   "source": [
    "### 🔍 7. Expressões Regulares com re\n",
    "📘 O que são regex? \n",
    "\n",
    "Expressões regulares são padrões usados para buscar, validar ou extrair textos. Muito usadas em limpeza de dados, validação de formatos (e-mails, CPF, etc.) e extração de logs."
   ]
  },
  {
   "cell_type": "markdown",
   "id": "4ab3069f",
   "metadata": {},
   "source": [
    "| Padrão `re.findall()` | O que retorna                                              | Exemplo de uso                          |\n",
    "| --------------------- | ---------------------------------------------------------- | --------------------------------------- |\n",
    "| `\\d`                  | Um único dígito (0–9)                                      | `'A3B' → ['3']`                         |\n",
    "| `\\d+`                 | Um ou mais dígitos seguidos                                | `'ID123VAL456' → ['123', '456']`        |\n",
    "| `\\D+`                 | Um ou mais caracteres que **não** são dígitos              | `'A3B5C' → ['A', 'B', 'C']`             |\n",
    "| `\\w`                  | Um caractere \"palavra\" (letras, números, underscore)       | `'A_B' → ['A', '_', 'B']`               |\n",
    "| `\\w+`                 | Uma palavra (letras, números, underscore)                  | `'User_01 ok' → ['User_01', 'ok']`      |\n",
    "| `\\W+`                 | Um ou mais caracteres que não são \"palavra\"                | `'ID#@!' → ['#@!']`                     |\n",
    "| `\\s+`                 | Um ou mais espaços, tabs ou quebras de linha               | `'a   b' → ['   ']`                     |\n",
    "| `\\S+`                 | Sequência sem espaços                                      | `'abc def' → ['abc', 'def']`            |\n",
    "| `[a-z]`               | Um caractere entre 'a' e 'z'                               | `'Python' → ['y', 't', 'h', 'o', 'n']`  |\n",
    "| `[A-Z]`               | Um caractere entre 'A' e 'Z'                               | `'PyTHON' → ['P', 'T', 'H', 'O', 'N']`  |\n",
    "| `[0-9]{4}`            | Exatamente 4 dígitos seguidos                              | `'Ano: 2023' → ['2023']`                |\n",
    "| `\\bpalavra\\b`         | A palavra exata, com separação por espaço, pontuação, etc. | `'palavra-chave palavra' → ['palavra']` |\n",
    "| `[^abc]`              | Qualquer caractere **exceto** `a`, `b`, ou `c`             | `'defg' → ['d', 'e', 'f', 'g']`         |\n",
    "| `.`                   | Qualquer caractere (exceto quebra de linha)                | `'AB' → ['A', 'B']`                     |\n"
   ]
  },
  {
   "cell_type": "code",
   "execution_count": 33,
   "id": "c260401e",
   "metadata": {},
   "outputs": [
    {
     "name": "stdout",
     "output_type": "stream",
     "text": [
      "['104', '300', '15', '02', '2024']\n"
     ]
    }
   ],
   "source": [
    "import re\n",
    "\n",
    "texto = \"Cliente 104 pagou R$ 300 em 15/02/2024\"\n",
    "numeros = re.findall(r\"\\d+\", texto)\n",
    "print(numeros)  # ['104', '300', '15', '02', '2024']\n"
   ]
  },
  {
   "cell_type": "code",
   "execution_count": 34,
   "id": "aae7cf66",
   "metadata": {},
   "outputs": [
    {
     "data": {
      "text/plain": [
       "'Email: alexlimacavalera@gmail.com '"
      ]
     },
     "execution_count": 34,
     "metadata": {},
     "output_type": "execute_result"
    }
   ],
   "source": [
    "nome = \"Nome: Alex Lima Email: alexlimacavalera@gmail.com Curso: Engenharia de Dados\"\n",
    "\n",
    "mail = re.search(\"(Email)\", nome)\n",
    "curso = re.search(\"(Curso)\", nome)\n",
    "mail_ = nome[mail.start():curso.start()]\n",
    "mail_"
   ]
  },
  {
   "cell_type": "code",
   "execution_count": 2,
   "id": "d5a97fc3",
   "metadata": {},
   "outputs": [
    {
     "name": "stdout",
     "output_type": "stream",
     "text": [
      "Meu CPF é [Priscilla]\n"
     ]
    }
   ],
   "source": [
    "import re\n",
    "cpf = \"Meu CPF é 123.456.789-00\"\n",
    "#                    123   . 456  . 789 - 00\n",
    "mascarado = re.sub(r\"\\d{3}.\\d{3}.\\d{3}-\\d{2}\", \"[Priscilla]\", cpf)\n",
    "\n",
    "print(mascarado)"
   ]
  },
  {
   "cell_type": "code",
   "execution_count": 36,
   "id": "396168b2",
   "metadata": {},
   "outputs": [
    {
     "name": "stdout",
     "output_type": "stream",
     "text": [
      "Email válido\n"
     ]
    }
   ],
   "source": [
    "import re\n",
    "\n",
    "email = \"usuario@email.com\"\n",
    "padrao = r\"^\\S+@\\S+\\.\\S+$\"\n",
    "\n",
    "if re.match(padrao, email):\n",
    "    print(\"Email válido\")\n",
    "else:\n",
    "    print(\"Email inválido\")\n"
   ]
  },
  {
   "cell_type": "markdown",
   "id": "160978d0",
   "metadata": {},
   "source": [
    "| Pedaço do padrão | Significado                                                                  |\n",
    "| ---------------- | ---------------------------------------------------------------------------- |\n",
    "| `r\"...\"`         | Prefixo que indica uma *raw string* — ignora o tratamento de `\\` no Python.  |\n",
    "| `^`              | Início da string.                                                            |\n",
    "| `\\S+`            | Um ou mais caracteres que **não são espaço em branco** (`\\S` = *non-space*). |\n",
    "| `@`              | O caractere arroba literal.                                                  |\n",
    "| `\\S+`            | Um ou mais caracteres que **não são espaço em branco** após o `@`.           |\n",
    "| `\\.`             | Um ponto literal (precisa de `\\` para escapar).                              |\n",
    "| `\\S+`            | Um ou mais caracteres que **não são espaço em branco** após o ponto.         |\n",
    "| `$`              | Fim da string.                                                               |\n"
   ]
  },
  {
   "cell_type": "code",
   "execution_count": null,
   "id": "e65f850d",
   "metadata": {},
   "outputs": [],
   "source": []
  },
  {
   "cell_type": "code",
   "execution_count": null,
   "id": "f70432fd",
   "metadata": {},
   "outputs": [],
   "source": []
  },
  {
   "cell_type": "markdown",
   "id": "72c6f0b5",
   "metadata": {},
   "source": [
    "## Atividade"
   ]
  },
  {
   "cell_type": "markdown",
   "id": "f31a26d3",
   "metadata": {},
   "source": [
    "Considere a lista de registros a seguir onde estão armazenados:\n",
    " - Nome\n",
    " - Rua \n",
    " - CEP\n",
    " - Bairro\n",
    " - Cidade\n",
    " - Estado\n",
    "\n",
    "Analise os registros a seguir e separe cada campo em uma lista.\n",
    " - CEP\n",
    " - Nome da rua\n",
    " - Nome pessoal\n",
    " - Rua, cidade e estado"
   ]
  },
  {
   "cell_type": "code",
   "execution_count": 1,
   "id": "2bdb015d",
   "metadata": {},
   "outputs": [],
   "source": [
    "import re\n",
    "\n",
    "regs = [\n",
    "        \"Maria da Silva Rua das Flores cep 12345678 Centro Fortaleza Ceara\",\n",
    "        \"João Oliveira Rua Bela Vista cep 54321876 Rio do Mato Fortaleza Ceara\",\n",
    "        \"Ana Souza Rua do Comércio cep 98765432 Bom Jardim Fortaleza Ceara\",\n",
    "        \"Pedro Santos Rua das Palmeiras cep 45678901 Jardins Fortaleza Ceara\",\n",
    "        \"Carla Costa Rua Principal cep 87654321 Bairro Novo Fortaleza Ceara\",\n",
    "        \"Fernando Lima Rua da Paz cep 23456789 Centro Fortaleza Ceara\",\n",
    "        \"Juliana Pereira Rua do Sol cep 78901234 Cocó Fortaleza Ceara\",\n",
    "        \"Luiz Rodrigues Rua das Esperanças cep 56789012 Dionisio Torres Fortaleza Ceara\",\n",
    "        \"Patrícia Almeida Rua das Árvores cep 34567890 Rua Grande Fortaleza Ceara\",\n",
    "        \"Marcos Oliveira Rua Beira Mar cep 67890123 Praia de Iracema Fortaleza Ceará\"\n",
    "]"
   ]
  },
  {
   "cell_type": "markdown",
   "id": "e763878a",
   "metadata": {},
   "source": [
    "### lower()"
   ]
  },
  {
   "cell_type": "code",
   "execution_count": 19,
   "id": "1709f7ce",
   "metadata": {},
   "outputs": [
    {
     "data": {
      "text/plain": [
       "['maria da silva rua das flores cep 12345678 centro fortaleza ceara',\n",
       " 'joão oliveira rua bela vista cep 54321876 rio do mato fortaleza ceara',\n",
       " 'ana souza rua do comércio cep 98765432 bom jardim fortaleza ceara',\n",
       " 'pedro santos rua das palmeiras cep 45678901 jardins fortaleza ceara',\n",
       " 'carla costa rua principal cep 87654321 bairro novo fortaleza ceara',\n",
       " 'fernando lima rua da paz cep 23456789 centro fortaleza ceara',\n",
       " 'juliana pereira rua do sol cep 78901234 cocó fortaleza ceara',\n",
       " 'luiz rodrigues rua das esperanças cep 56789012 dionisio torres fortaleza ceara',\n",
       " 'patrícia almeida rua das árvores cep 34567890 rua grande fortaleza ceara',\n",
       " 'marcos oliveira rua beira mar cep 67890123 praia de iracema fortaleza ceará']"
      ]
     },
     "execution_count": 19,
     "metadata": {},
     "output_type": "execute_result"
    }
   ],
   "source": [
    "# DICA: DEIXAR OS TERMOS DA LISTA MINUSCULOS\n",
    "n_regs = []\n",
    "for r in range(len(regs)):\n",
    "    n_regs.append(regs[r].lower())\n",
    "    \n",
    "n_regs    "
   ]
  },
  {
   "cell_type": "markdown",
   "id": "ef260f5f",
   "metadata": {},
   "source": [
    "### CEP"
   ]
  },
  {
   "cell_type": "code",
   "execution_count": 2,
   "id": "0ba954c8",
   "metadata": {},
   "outputs": [
    {
     "data": {
      "text/plain": [
       "'54321876'"
      ]
     },
     "execution_count": 2,
     "metadata": {},
     "output_type": "execute_result"
    }
   ],
   "source": [
    "# CEP\n",
    "cep = re.search(\"(cep)\", regs[1])\n",
    "cep_ = regs[1][cep.start() + 4:cep.end() + 9]\n",
    "cep_"
   ]
  },
  {
   "cell_type": "markdown",
   "id": "4c957b3d",
   "metadata": {},
   "source": [
    "### Nome da rua"
   ]
  },
  {
   "cell_type": "code",
   "execution_count": 30,
   "id": "f5ba59ab",
   "metadata": {},
   "outputs": [
    {
     "data": {
      "text/plain": [
       "'Rua Bela Vista'"
      ]
     },
     "execution_count": 30,
     "metadata": {},
     "output_type": "execute_result"
    }
   ],
   "source": [
    "# rua\n",
    "rua = re.search(r\"\\b(?:rua|r|avenida|av)\", regs[1].lower())\n",
    "rua_ = regs[1][rua.start() : cep.start() - 1]\n",
    "rua_"
   ]
  },
  {
   "cell_type": "markdown",
   "id": "68383ca1",
   "metadata": {},
   "source": [
    "### Nome da pessoa"
   ]
  },
  {
   "cell_type": "code",
   "execution_count": 32,
   "id": "bed6cbb0",
   "metadata": {},
   "outputs": [
    {
     "data": {
      "text/plain": [
       "'João Oliveira'"
      ]
     },
     "execution_count": 32,
     "metadata": {},
     "output_type": "execute_result"
    }
   ],
   "source": [
    "# nome da pessoa\n",
    "nome = regs[1][:rua.start() - 1]\n",
    "nome"
   ]
  },
  {
   "cell_type": "markdown",
   "id": "afb5c244",
   "metadata": {},
   "source": [
    "### Rua, cidade e estado"
   ]
  },
  {
   "cell_type": "code",
   "execution_count": 23,
   "id": "250a11aa",
   "metadata": {},
   "outputs": [
    {
     "data": {
      "text/plain": [
       "'Rio do Mato Fortaleza Ceara'"
      ]
     },
     "execution_count": 23,
     "metadata": {},
     "output_type": "execute_result"
    }
   ],
   "source": [
    "#rua cidade e estado\n",
    "regs[1][cep.end() + 10: ]"
   ]
  },
  {
   "cell_type": "code",
   "execution_count": null,
   "id": "d668206c",
   "metadata": {},
   "outputs": [],
   "source": []
  },
  {
   "cell_type": "code",
   "execution_count": null,
   "id": "ae62366a",
   "metadata": {},
   "outputs": [],
   "source": []
  },
  {
   "cell_type": "code",
   "execution_count": null,
   "id": "e03c8f43",
   "metadata": {},
   "outputs": [],
   "source": []
  }
 ],
 "metadata": {
  "kernelspec": {
   "display_name": "Python 3 (ipykernel)",
   "language": "python",
   "name": "python3"
  },
  "language_info": {
   "codemirror_mode": {
    "name": "ipython",
    "version": 3
   },
   "file_extension": ".py",
   "mimetype": "text/x-python",
   "name": "python",
   "nbconvert_exporter": "python",
   "pygments_lexer": "ipython3",
   "version": "3.12.7"
  }
 },
 "nbformat": 4,
 "nbformat_minor": 5
}
