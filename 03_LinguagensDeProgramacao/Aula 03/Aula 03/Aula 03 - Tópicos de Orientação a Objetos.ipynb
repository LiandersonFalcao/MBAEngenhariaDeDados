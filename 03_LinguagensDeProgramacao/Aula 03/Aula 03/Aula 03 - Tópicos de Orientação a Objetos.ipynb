{
 "cells": [
  {
   "cell_type": "markdown",
   "id": "3d435c50",
   "metadata": {},
   "source": [
    "# Aula 03 - Tópicos de Orientação a Objetos\n",
    "\n",
    "## 📌Tópicos da Aula\n",
    " - Conceitos de orientação à objetos\n",
    " - Princípios SOLID\n",
    " - Descriptors\n",
    " - Classes de tratamento de exceção\n",
    " \n",
    " ---\n",
    "\n",
    "## 📘 Conceitos Fundamentais\n",
    "\n",
    "**Paradigma de programação** é uma forma de pensar e organizar o código. \n",
    "\n",
    ">\" Segundo David A. Schmidt, em seu livro *\"The Structure of Programming Languages\"*,\n",
    " um paradigma de programação é \"uma maneira fundamental de pensar sobre a construção de programas\",influenciando a forma como problemas são decompostos e soluções são organizadas.\"\n",
    "\n",
    "\n",
    "---\n",
    "\n",
    "## O que é Programação Orientada a Objetos?\n",
    "\n",
    "A Programação Orientada a Objetos (POO) é um paradigma de programação que organiza o código com base em **objetos**, que representam entidades do mundo real com características (**atributos**) e comportamentos (**métodos**).\n",
    "\n",
    "\n",
    "### 🧱 Classe\n",
    "Uma **classe** é um molde para criar objetos. Define os atributos e métodos que os objetos daquela classe terão.\n",
    "\n",
    "### 🎯 Objeto\n",
    "Um **objeto** é uma instância de uma classe. Ele representa uma entidade específica com estado e comportamento próprios.\n",
    "\n",
    "### ⚙️ Método\n",
    "Um **método** é uma função definida dentro de uma classe. Ele descreve um comportamento dos objetos da classe.\n",
    "\n",
    "### 📦 Atributo\n",
    "Um **atributo** é uma variável que pertence a um objeto. Representa suas características."
   ]
  },
  {
   "cell_type": "markdown",
   "id": "d19feba3",
   "metadata": {},
   "source": [
    "---\n",
    "\n",
    "## 🔐 Encapsulamento\n",
    "\n",
    "`Encapsulamento` é um dos pilares da programação orientada a objetos. Ele consiste em restringir o acesso direto aos atributos internos de um objeto, forçando a interação com eles por meio de métodos públicos, como os famosos getters e setters.\n"
   ]
  },
  {
   "cell_type": "markdown",
   "id": "899221f8",
   "metadata": {},
   "source": [
    "#### 🧪 Exemplo Prático: Sistema Bancário\n",
    "Vamos simular uma conta bancária com as seguintes funcionalidades:\n",
    "\n",
    "- Criar uma conta com titular e saldo\n",
    "- Realizar depósitos e saques\n",
    "- Consultar saldo\n",
    "\n",
    "```python\n",
    "class ContaBancaria:\n",
    "    def __init__(self, titular, saldo):\n",
    "        self.titular = titular\n",
    "        self.__saldo = saldo\n",
    "\n",
    "    def depositar(self, valor):\n",
    "        self.__saldo += valor\n",
    "\n",
    "    def sacar(self, valor):\n",
    "        if valor <= self.__saldo:\n",
    "            self.__saldo -= valor\n",
    "\n",
    "    def consultar_saldo(self):\n",
    "        return self.__saldo\n",
    "```"
   ]
  },
  {
   "cell_type": "code",
   "execution_count": 1,
   "id": "c9a1bcbc",
   "metadata": {},
   "outputs": [],
   "source": [
    "#conta_bancaria\n",
    "class ContaBancaria:\n",
    "    def __init__(self, titular, saldo):\n",
    "        self.titular = titular #público\n",
    "        self.__saldo = saldo\n",
    "\n",
    "    def depositar(self, valor):\n",
    "        self.__saldo += valor\n",
    "\n",
    "    def sacar(self, valor):\n",
    "        if valor <= self.__saldo:\n",
    "            self.__saldo -= valor\n",
    "\n",
    "    def consultar_saldo(self):\n",
    "        return self.__saldo"
   ]
  },
  {
   "cell_type": "code",
   "execution_count": 2,
   "id": "225c52da",
   "metadata": {},
   "outputs": [],
   "source": [
    "conta1 = ContaBancaria('alex', 1000)\n",
    "conta2 = ContaBancaria('mariana', 2000)"
   ]
  },
  {
   "cell_type": "code",
   "execution_count": 5,
   "id": "1d3e151c",
   "metadata": {},
   "outputs": [
    {
     "data": {
      "text/plain": [
       "'lima'"
      ]
     },
     "execution_count": 5,
     "metadata": {},
     "output_type": "execute_result"
    }
   ],
   "source": [
    "conta1.titular"
   ]
  },
  {
   "cell_type": "code",
   "execution_count": 4,
   "id": "71df32d9",
   "metadata": {},
   "outputs": [],
   "source": [
    "conta1.titular = 'lima'"
   ]
  },
  {
   "cell_type": "code",
   "execution_count": 8,
   "id": "a943839e",
   "metadata": {},
   "outputs": [
    {
     "data": {
      "text/plain": [
       "2000"
      ]
     },
     "execution_count": 8,
     "metadata": {},
     "output_type": "execute_result"
    }
   ],
   "source": [
    "conta2.consultar_saldo()"
   ]
  },
  {
   "cell_type": "code",
   "execution_count": 9,
   "id": "bfb55a04",
   "metadata": {},
   "outputs": [
    {
     "data": {
      "text/plain": [
       "2350"
      ]
     },
     "execution_count": 9,
     "metadata": {},
     "output_type": "execute_result"
    }
   ],
   "source": [
    "conta2.depositar(350)\n",
    "conta2.consultar_saldo()"
   ]
  },
  {
   "cell_type": "code",
   "execution_count": 10,
   "id": "42887811",
   "metadata": {},
   "outputs": [
    {
     "ename": "AttributeError",
     "evalue": "'ContaBancaria' object has no attribute '__saldo'",
     "output_type": "error",
     "traceback": [
      "\u001b[1;31m---------------------------------------------------------------------------\u001b[0m",
      "\u001b[1;31mAttributeError\u001b[0m                            Traceback (most recent call last)",
      "Cell \u001b[1;32mIn[10], line 1\u001b[0m\n\u001b[1;32m----> 1\u001b[0m conta2\u001b[38;5;241m.\u001b[39m__saldo\n",
      "\u001b[1;31mAttributeError\u001b[0m: 'ContaBancaria' object has no attribute '__saldo'"
     ]
    }
   ],
   "source": [
    "conta2.__saldo"
   ]
  },
  {
   "cell_type": "code",
   "execution_count": 12,
   "id": "0ce53988",
   "metadata": {},
   "outputs": [
    {
     "data": {
      "text/plain": [
       "2350"
      ]
     },
     "execution_count": 12,
     "metadata": {},
     "output_type": "execute_result"
    }
   ],
   "source": [
    "conta2._ContaBancaria__saldo"
   ]
  },
  {
   "cell_type": "code",
   "execution_count": 13,
   "id": "b2f59adf",
   "metadata": {},
   "outputs": [],
   "source": [
    "conta2.__saldo = 35000"
   ]
  },
  {
   "cell_type": "code",
   "execution_count": 16,
   "id": "1867d6b4",
   "metadata": {},
   "outputs": [
    {
     "data": {
      "text/plain": [
       "2350"
      ]
     },
     "execution_count": 16,
     "metadata": {},
     "output_type": "execute_result"
    }
   ],
   "source": [
    "conta2.consultar_saldo()"
   ]
  },
  {
   "cell_type": "code",
   "execution_count": 15,
   "id": "7dfd3229",
   "metadata": {},
   "outputs": [
    {
     "data": {
      "text/plain": [
       "['_ContaBancaria__saldo',\n",
       " '__class__',\n",
       " '__delattr__',\n",
       " '__dict__',\n",
       " '__dir__',\n",
       " '__doc__',\n",
       " '__eq__',\n",
       " '__format__',\n",
       " '__ge__',\n",
       " '__getattribute__',\n",
       " '__getstate__',\n",
       " '__gt__',\n",
       " '__hash__',\n",
       " '__init__',\n",
       " '__init_subclass__',\n",
       " '__le__',\n",
       " '__lt__',\n",
       " '__module__',\n",
       " '__ne__',\n",
       " '__new__',\n",
       " '__reduce__',\n",
       " '__reduce_ex__',\n",
       " '__repr__',\n",
       " '__setattr__',\n",
       " '__sizeof__',\n",
       " '__str__',\n",
       " '__subclasshook__',\n",
       " '__weakref__',\n",
       " 'consultar_saldo',\n",
       " 'depositar',\n",
       " 'sacar',\n",
       " 'titular']"
      ]
     },
     "execution_count": 15,
     "metadata": {},
     "output_type": "execute_result"
    }
   ],
   "source": [
    "dir(conta1)"
   ]
  },
  {
   "cell_type": "code",
   "execution_count": 14,
   "id": "3fe46b8e",
   "metadata": {},
   "outputs": [
    {
     "data": {
      "text/plain": [
       "['_ContaBancaria__saldo',\n",
       " '__class__',\n",
       " '__delattr__',\n",
       " '__dict__',\n",
       " '__dir__',\n",
       " '__doc__',\n",
       " '__eq__',\n",
       " '__format__',\n",
       " '__ge__',\n",
       " '__getattribute__',\n",
       " '__getstate__',\n",
       " '__gt__',\n",
       " '__hash__',\n",
       " '__init__',\n",
       " '__init_subclass__',\n",
       " '__le__',\n",
       " '__lt__',\n",
       " '__module__',\n",
       " '__ne__',\n",
       " '__new__',\n",
       " '__reduce__',\n",
       " '__reduce_ex__',\n",
       " '__repr__',\n",
       " '__saldo',\n",
       " '__setattr__',\n",
       " '__sizeof__',\n",
       " '__str__',\n",
       " '__subclasshook__',\n",
       " '__weakref__',\n",
       " 'consultar_saldo',\n",
       " 'depositar',\n",
       " 'sacar',\n",
       " 'titular']"
      ]
     },
     "execution_count": 14,
     "metadata": {},
     "output_type": "execute_result"
    }
   ],
   "source": [
    "dir(conta2)"
   ]
  },
  {
   "cell_type": "code",
   "execution_count": 11,
   "id": "2e776bd3",
   "metadata": {},
   "outputs": [
    {
     "data": {
      "text/plain": [
       "['_ContaBancaria__saldo',\n",
       " '__class__',\n",
       " '__delattr__',\n",
       " '__dict__',\n",
       " '__dir__',\n",
       " '__doc__',\n",
       " '__eq__',\n",
       " '__format__',\n",
       " '__ge__',\n",
       " '__getattribute__',\n",
       " '__getstate__',\n",
       " '__gt__',\n",
       " '__hash__',\n",
       " '__init__',\n",
       " '__init_subclass__',\n",
       " '__le__',\n",
       " '__lt__',\n",
       " '__module__',\n",
       " '__ne__',\n",
       " '__new__',\n",
       " '__reduce__',\n",
       " '__reduce_ex__',\n",
       " '__repr__',\n",
       " '__setattr__',\n",
       " '__sizeof__',\n",
       " '__str__',\n",
       " '__subclasshook__',\n",
       " '__weakref__',\n",
       " 'consultar_saldo',\n",
       " 'depositar',\n",
       " 'sacar',\n",
       " 'titular']"
      ]
     },
     "execution_count": 11,
     "metadata": {},
     "output_type": "execute_result"
    }
   ],
   "source": [
    "dir(conta2)"
   ]
  },
  {
   "cell_type": "code",
   "execution_count": null,
   "id": "f1b3fdd7",
   "metadata": {},
   "outputs": [],
   "source": []
  },
  {
   "cell_type": "code",
   "execution_count": null,
   "id": "4b3715be",
   "metadata": {},
   "outputs": [],
   "source": []
  },
  {
   "cell_type": "markdown",
   "id": "cddee64c",
   "metadata": {},
   "source": [
    "### 🧬 Herança e Polimorfismo\n",
    "\n",
    "**Herança** é o mecanismo que permite que uma classe reutilize atributos e métodos de outra. \n",
    "\n",
    "**Polimorfismo** é a capacidade de diferentes classes responderem ao mesmo método de formas distintas.\n",
    "\n",
    "#### 📚 Classe Base e Subclasses\n",
    "`Subclasse` é uma classe que herda/estende atributos e métodos de outra classe, chamada de `superclasse`. Ela pode reutilizar o comportamento da superclasse, estendê-lo ou modificá-lo por meio da sobrescrita de métodos.\n",
    "\n"
   ]
  },
  {
   "cell_type": "code",
   "execution_count": null,
   "id": "94452084",
   "metadata": {},
   "outputs": [],
   "source": []
  },
  {
   "cell_type": "markdown",
   "id": "20dae179",
   "metadata": {},
   "source": [
    "#### 🧪 Exemplo Prático: Usuários de sistema"
   ]
  },
  {
   "cell_type": "raw",
   "id": "87119daa",
   "metadata": {},
   "source": [
    "        SuperUsuario\n",
    "            |\n",
    "            |\n",
    "          Usuario\n",
    "         /       \\\n",
    "        /         \\\n",
    "     Admin      Cliente"
   ]
  },
  {
   "cell_type": "markdown",
   "id": "9ae36aa4",
   "metadata": {},
   "source": [
    "```python\n",
    "from abc import ABC, abstractmethod\n",
    "\n",
    "class SuperUsuario(ABC):\n",
    "    \n",
    "    @abstractmethod\n",
    "    def exibir_info(self):\n",
    "        pass\n",
    "```    "
   ]
  },
  {
   "cell_type": "code",
   "execution_count": 27,
   "id": "77e2cdc8",
   "metadata": {},
   "outputs": [],
   "source": [
    "class SuperUsuario:\n",
    "    \n",
    "    def exibir_info(self):\n",
    "        print('USER')"
   ]
  },
  {
   "cell_type": "code",
   "execution_count": 28,
   "id": "1e62e17f",
   "metadata": {},
   "outputs": [],
   "source": [
    "class Usuario(SuperUsuario):\n",
    "    def __init__(self, nome, email):\n",
    "        self.nome = nome\n",
    "        self.email = email\n",
    "\n",
    "    def exibir_info(self):\n",
    "        print(f\"USUARIO [Nome:{self.nome} | E-mail:{self.email}]\\n\")        "
   ]
  },
  {
   "cell_type": "code",
   "execution_count": 29,
   "id": "f2e9d825",
   "metadata": {},
   "outputs": [
    {
     "name": "stdout",
     "output_type": "stream",
     "text": [
      "USUARIO [Nome:osiris | E-mail:osiris@mail.com]\n",
      "\n"
     ]
    }
   ],
   "source": [
    "usuario1 = Usuario('osiris','osiris@mail.com')\n",
    "usuario1.exibir_info()"
   ]
  },
  {
   "cell_type": "code",
   "execution_count": 41,
   "id": "db1a80cc",
   "metadata": {},
   "outputs": [],
   "source": [
    "class Admin(Usuario):\n",
    "    def __init__(self, nome, email, permissoes):\n",
    "        super().__init__(nome, email)\n",
    "        self.permissoes = permissoes\n",
    "    \n",
    "    def exibir_info(self):\n",
    "        print(f\"ADMIN [Nome:{self.nome} | E-mail:{self.email} | Permissão:{self.permissoes}]\\n\")"
   ]
  },
  {
   "cell_type": "code",
   "execution_count": 42,
   "id": "9b07b06a",
   "metadata": {},
   "outputs": [],
   "source": [
    "class Cliente(Usuario):\n",
    "    def __init__(self, nome, email, id_cliente):\n",
    "        super().__init__(nome, email)\n",
    "        self.id_cliente = id_cliente\n",
    "    \n",
    "    def exibir_info(self):\n",
    "        print(f\"CLIENTE [Nome:{self.nome} | E-mail:{self.email} | ID:{self.id_cliente}]\\n\")"
   ]
  },
  {
   "cell_type": "code",
   "execution_count": 43,
   "id": "09cd6192",
   "metadata": {},
   "outputs": [],
   "source": [
    "cliente1 = Cliente('c1', 'c1@mail.com', '1')\n",
    "admin1 = Admin('a1', 'a1@mail.com', '777')"
   ]
  },
  {
   "cell_type": "code",
   "execution_count": 44,
   "id": "a1150fe3",
   "metadata": {},
   "outputs": [
    {
     "name": "stdout",
     "output_type": "stream",
     "text": [
      "CLIENTE [Nome:c1 | E-mail:c1@mail.com | ID:1]\n",
      "\n"
     ]
    }
   ],
   "source": [
    "cliente1.exibir_info()"
   ]
  },
  {
   "cell_type": "code",
   "execution_count": 45,
   "id": "0e583cca",
   "metadata": {},
   "outputs": [
    {
     "name": "stdout",
     "output_type": "stream",
     "text": [
      "ADMIN [Nome:a1 | E-mail:a1@mail.com | Permissão:777]\n",
      "\n"
     ]
    }
   ],
   "source": [
    "admin1.exibir_info()"
   ]
  },
  {
   "cell_type": "code",
   "execution_count": null,
   "id": "283e296b",
   "metadata": {},
   "outputs": [],
   "source": []
  },
  {
   "cell_type": "markdown",
   "id": "246ec367",
   "metadata": {},
   "source": [
    "### ⚠️ Tratamento de exceção\n",
    "\n",
    "Em Python, **exceções são objetos** que representam estados de erro fora do fluxo normal do programa.  \n",
    "- **Tratamento de exceções** é o conjunto de práticas que detecta, classifica e responde a esses objetos-erro sem derrubar a aplicação.  \n",
    "- **Orientação a objetos** importa porque:\n",
    "  1. **Hierarquia**: você herda de `Exception`, criando árvores que refletem o domínio (pagamento, reserva, upload…).  \n",
    "  2. **Polimorfismo**: um `except PedidoError` captura qualquer subclasse (`EstoqueInsuficiente`, `PedidoExpirado`).  \n",
    "  3. **Encapsulamento**: dados extras (ex.: `order_id`) ficam dentro do objeto-erro, tornando logs e alertas mais ricos.  \n",
    "\n",
    "---\n",
    "\n",
    "#### 🔐  Exemplos  \n"
   ]
  },
  {
   "cell_type": "code",
   "execution_count": 46,
   "id": "b592772f",
   "metadata": {},
   "outputs": [
    {
     "ename": "ValueError",
     "evalue": "invalid literal for int() with base 10: 'ola'",
     "output_type": "error",
     "traceback": [
      "\u001b[1;31m---------------------------------------------------------------------------\u001b[0m",
      "\u001b[1;31mValueError\u001b[0m                                Traceback (most recent call last)",
      "Cell \u001b[1;32mIn[46], line 2\u001b[0m\n\u001b[0;32m      1\u001b[0m value \u001b[38;5;241m=\u001b[39m \u001b[38;5;124m'\u001b[39m\u001b[38;5;124mola\u001b[39m\u001b[38;5;124m'\u001b[39m\n\u001b[1;32m----> 2\u001b[0m \u001b[38;5;28mint\u001b[39m(value)\n",
      "\u001b[1;31mValueError\u001b[0m: invalid literal for int() with base 10: 'ola'"
     ]
    }
   ],
   "source": [
    "value = 'ola'\n",
    "int(value)"
   ]
  },
  {
   "cell_type": "code",
   "execution_count": 56,
   "id": "6c827079",
   "metadata": {},
   "outputs": [],
   "source": [
    "class SalarioInvalido(Exception, Usuario):\n",
    "    def __init__(self, message = \"Salarios devem ser positivos\"):\n",
    "        self.message = message\n",
    "        super().__init__(self.message)\n",
    "        \n",
    "\n",
    "def definir_salario(valor):\n",
    "    try:\n",
    "        if valor > 0:\n",
    "            print('Salario definido')\n",
    "        else:\n",
    "            raise SalarioInvalido()\n",
    "    except SalarioInvalido as si:\n",
    "        print(si)"
   ]
  },
  {
   "cell_type": "code",
   "execution_count": 48,
   "id": "32c6f87a",
   "metadata": {},
   "outputs": [
    {
     "name": "stdout",
     "output_type": "stream",
     "text": [
      "Salario definido\n"
     ]
    }
   ],
   "source": [
    "definir_salario(100)"
   ]
  },
  {
   "cell_type": "code",
   "execution_count": 49,
   "id": "0ee90ab6",
   "metadata": {},
   "outputs": [
    {
     "name": "stdout",
     "output_type": "stream",
     "text": [
      "Salarios devem ser positivos\n"
     ]
    }
   ],
   "source": [
    "definir_salario(-100)"
   ]
  },
  {
   "cell_type": "code",
   "execution_count": 50,
   "id": "a0f0482e",
   "metadata": {},
   "outputs": [
    {
     "name": "stdout",
     "output_type": "stream",
     "text": [
      "infinito\n",
      "FIM\n",
      "1/1 = 1.0\n",
      "FIM\n",
      "1/2 = 0.5\n",
      "FIM\n",
      "1/a\n",
      "FIM\n",
      "1/4 = 0.25\n",
      "FIM\n"
     ]
    }
   ],
   "source": [
    "def divisao(a, b):\n",
    "    return a/b\n",
    "\n",
    "denominadores = [0, 1, 2, 'a', 4]\n",
    "\n",
    "for d in denominadores:\n",
    "    try:\n",
    "        div = divisao(1, d)\n",
    "    except ZeroDivisionError:\n",
    "        print('infinito')\n",
    "    except TypeError:\n",
    "        print(f'1/{d}')\n",
    "    except:\n",
    "        print('Erro desconhecido')\n",
    "    else:\n",
    "        print(f'1/{d} = {div}')\n",
    "    finally:\n",
    "        print('FIM')"
   ]
  },
  {
   "cell_type": "markdown",
   "id": "d29a55b8",
   "metadata": {},
   "source": [
    "### 🧱 Composição\n",
    "\n",
    "`Composição` é uma alternativa onde objetos são formados a partir de outros objetos, construindo comportamentos complexos sem depender de hierarquias rígidas. Ela favorece:"
   ]
  },
  {
   "cell_type": "markdown",
   "id": "aa05e4e3",
   "metadata": {},
   "source": [
    "```python\n",
    "class Produto:\n",
    "    def __init__(self, nome, preco):\n",
    "        self.nome = nome\n",
    "        self.preco = preco\n",
    "\n",
    "class Carrinho:\n",
    "    def __init__(self):\n",
    "        self.itens = []\n",
    "\n",
    "    def adicionar(self, produto):\n",
    "        self.itens.append(produto)\n",
    "\n",
    "    def total(self):\n",
    "        return sum(p.preco for p in self.itens)\n",
    "```    "
   ]
  },
  {
   "cell_type": "code",
   "execution_count": 51,
   "id": "c6d9cf4f",
   "metadata": {},
   "outputs": [],
   "source": [
    "class Produto:\n",
    "    def __init__(self, nome, preco):\n",
    "        self.nome = nome\n",
    "        self.preco = preco\n",
    "\n",
    "class Carrinho:\n",
    "    def __init__(self):\n",
    "        self.itens = []\n",
    "\n",
    "    def adicionar(self, produto):\n",
    "        self.itens.append(produto)\n",
    "\n",
    "    def total(self):\n",
    "        return sum(p.preco for p in self.itens)\n"
   ]
  },
  {
   "cell_type": "code",
   "execution_count": 52,
   "id": "29ad71b4",
   "metadata": {},
   "outputs": [],
   "source": [
    "produto1 = Produto('sapato', 100)\n",
    "produto2 = Produto('playstation', 1100)\n",
    "produto3 = Produto('mesa', 200)"
   ]
  },
  {
   "cell_type": "code",
   "execution_count": 54,
   "id": "500242f0",
   "metadata": {},
   "outputs": [],
   "source": [
    "carrinho = Carrinho()\n",
    "carrinho.adicionar(produto1)\n",
    "carrinho.adicionar(produto2)\n",
    "carrinho.adicionar(produto3)"
   ]
  },
  {
   "cell_type": "code",
   "execution_count": 55,
   "id": "17af605f",
   "metadata": {},
   "outputs": [
    {
     "data": {
      "text/plain": [
       "1400"
      ]
     },
     "execution_count": 55,
     "metadata": {},
     "output_type": "execute_result"
    }
   ],
   "source": [
    "carrinho.total()"
   ]
  },
  {
   "cell_type": "code",
   "execution_count": null,
   "id": "6ea1c0da",
   "metadata": {},
   "outputs": [],
   "source": []
  },
  {
   "cell_type": "markdown",
   "id": "b66471b7",
   "metadata": {},
   "source": [
    "---\n",
    "\n",
    "## Design Patterns e Princípios SOLID \n",
    "\n",
    "`Padrões de projeto` são soluções típicas para problemas comuns em design de software. Cada padrão é como um projeto que você pode personalizar para resolver um problema de projeto específico no seu código.\n",
    "\n",
    "\n",
    "### 🧱 Princípios SOLID\n",
    "Os cinco princípios abaixo ajudam a criar sistemas orientados a objetos que são modulares, reutilizáveis e de fácil manutenção:\n",
    "\n",
    "| Sigla | Princípio                                 | Definição                                                                               |\n",
    "| ----- | ----------------------------------------- | --------------------------------------------------------------------------------------- |\n",
    "| **S** | **Single Responsibility Principle (SRP)** | Uma classe deve ter apenas uma razão para mudar. Responsabilidades devem ser isoladas.  |\n",
    "| **O** | **Open/Closed Principle (OCP)**           | Classes devem estar **abertas para extensão** e **fechadas para modificação**.          |\n",
    "| **L** | **Liskov Substitution Principle (LSP)**   | Subtipos devem poder ser usados no lugar dos seus tipos base **sem quebrar o sistema**. |\n",
    "| **I** | **Interface Segregation Principle (ISP)** | Classes não devem ser forçadas a depender de métodos que **não utilizam**.              |\n",
    "| **D** | **Dependency Inversion Principle (DIP)**  | Dependa de **abstrações**, não de implementações concretas.     "
   ]
  },
  {
   "cell_type": "markdown",
   "id": "e64a1e5d",
   "metadata": {},
   "source": [
    "### ♟️Padrão: Strategy\n",
    "\n",
    "O Strategy é um padrão de projeto comportamental cujo objetivo é definir uma família de algoritmos, encapsular cada um deles em uma classe separada e torná-los intercambiáveis em tempo de execução, de modo que o cliente (o “contexto”) possa escolher qual estratégia usar sem precisar conhecer detalhes de implementação.\n",
    "\n",
    "---\n",
    "\n",
    "### Desafio:\n",
    "\n",
    "Como implementar uma função de pagamento que aceita diferentes formas/classes de pagamento?"
   ]
  },
  {
   "cell_type": "code",
   "execution_count": 3,
   "id": "c1e56a24",
   "metadata": {},
   "outputs": [],
   "source": [
    "#ABC - Abstract Base Class\n",
    "from abc import ABC, abstractmethod\n",
    "\n",
    "class Pagamento(ABC):\n",
    "    \n",
    "    @abstractmethod\n",
    "    def pagar(self, valor):\n",
    "        pass"
   ]
  },
  {
   "cell_type": "code",
   "execution_count": 4,
   "id": "2dc81f65",
   "metadata": {},
   "outputs": [
    {
     "ename": "TypeError",
     "evalue": "Can't instantiate abstract class CartaoCredito without an implementation for abstract method 'pagar'",
     "output_type": "error",
     "traceback": [
      "\u001b[1;31m---------------------------------------------------------------------------\u001b[0m",
      "\u001b[1;31mTypeError\u001b[0m                                 Traceback (most recent call last)",
      "Cell \u001b[1;32mIn[4], line 6\u001b[0m\n\u001b[0;32m      3\u001b[0m     \u001b[38;5;28;01mdef\u001b[39;00m \u001b[38;5;21mpagar_credito\u001b[39m(\u001b[38;5;28mself\u001b[39m, valor):\n\u001b[0;32m      4\u001b[0m         \u001b[38;5;28mprint\u001b[39m(\u001b[38;5;124m'\u001b[39m\u001b[38;5;124mPagamento realizado no crédito.\u001b[39m\u001b[38;5;124m'\u001b[39m)\n\u001b[1;32m----> 6\u001b[0m cartao \u001b[38;5;241m=\u001b[39m CartaoCredito()\n",
      "\u001b[1;31mTypeError\u001b[0m: Can't instantiate abstract class CartaoCredito without an implementation for abstract method 'pagar'"
     ]
    }
   ],
   "source": [
    "class CartaoCredito(Pagamento):\n",
    "    \n",
    "    def pagar_credito(self, valor):\n",
    "        print('Pagamento realizado no crédito.')\n",
    "\n",
    "cartao = CartaoCredito()"
   ]
  },
  {
   "cell_type": "code",
   "execution_count": 58,
   "id": "9775e196",
   "metadata": {},
   "outputs": [],
   "source": [
    "class CartaoCredito(Pagamento):\n",
    "    \n",
    "    def pagar(self, valor):\n",
    "        print('Pagamento realizado no crédito.')\n",
    "        \n",
    "\n",
    "class CartaoDebito(Pagamento):\n",
    "    \n",
    "    def pagar(self, valor):\n",
    "        print('Pagamento realizado no débito.')"
   ]
  },
  {
   "cell_type": "code",
   "execution_count": 59,
   "id": "c6a5d197",
   "metadata": {},
   "outputs": [],
   "source": [
    "def pagar_conta(metodo_pagamento, valor):\n",
    "    metodo_pagamento.pagar(valor)"
   ]
  },
  {
   "cell_type": "code",
   "execution_count": 60,
   "id": "f2a510e3",
   "metadata": {},
   "outputs": [
    {
     "name": "stdout",
     "output_type": "stream",
     "text": [
      "Pagamento realizado no crédito.\n"
     ]
    }
   ],
   "source": [
    "pagar_conta(CartaoCredito(), 100)"
   ]
  },
  {
   "cell_type": "code",
   "execution_count": 61,
   "id": "baedcb23",
   "metadata": {},
   "outputs": [
    {
     "name": "stdout",
     "output_type": "stream",
     "text": [
      "Pagamento realizado no débito.\n"
     ]
    }
   ],
   "source": [
    "pagar_conta(CartaoDebito(), 100)"
   ]
  },
  {
   "cell_type": "code",
   "execution_count": null,
   "id": "449a17a5",
   "metadata": {},
   "outputs": [],
   "source": []
  },
  {
   "cell_type": "code",
   "execution_count": null,
   "id": "4ebfe034",
   "metadata": {},
   "outputs": [],
   "source": []
  },
  {
   "cell_type": "code",
   "execution_count": null,
   "id": "700f58e4",
   "metadata": {},
   "outputs": [],
   "source": []
  },
  {
   "cell_type": "markdown",
   "id": "5b5d3c63",
   "metadata": {},
   "source": [
    "## Aplicação: Sistema de Delivery\n",
    "\n",
    "### Delivery Pro  \n",
    "Construa um módulo **Delivery Pro** para um marketplace que administra diferentes veículos de entrega (caminhão e drone).  \n",
    "O sistema deve:\n",
    "\n",
    "1. **Encapsular** atributos sensíveis (ex.: nível de bateria do drone).  \n",
    "2. Usar **herança** (veículo → caminhão/drone) e **múltipla herança** via _mixins_.  \n",
    "3. Aplicar **composição**: o serviço de entrega orquestra veículos e pacotes.  \n",
    "4. Definir uma **hierarquia de exceções** de domínio e tratá-las de forma elegante.  \n",
    "\n",
    "---"
   ]
  },
  {
   "cell_type": "code",
   "execution_count": 68,
   "id": "55e7a4a6",
   "metadata": {},
   "outputs": [],
   "source": [
    "from abc import ABC, abstractmethod\n",
    "from datetime import datetime\n",
    "\n",
    "\n",
    "class ErroEntrega(Exception):\n",
    "    \"\"\"Classe geral de erros de entrega\"\"\"\n",
    "    \n",
    "class VeiculoIndisponivel(ErroEntrega):\n",
    "    \"\"\"Classe de erros para veículos fora da categoria\"\"\"\n",
    "\n",
    "class BateriaFraca(ErroEntrega):\n",
    "    \"Classe de erros de bateria\"\n",
    "    \n",
    "class PacoteExcedePeso(ErroEntrega):\n",
    "    \"\"\"Classe de erro para pacotes de peso fora da categoria\"\"\""
   ]
  },
  {
   "cell_type": "code",
   "execution_count": 69,
   "id": "aca448c0",
   "metadata": {},
   "outputs": [],
   "source": [
    "class LogMixin():\n",
    "    def log(self, msg):\n",
    "        self.msg = msg\n",
    "        timestamp = datetime.now().strftime('%Y-%m-%d %H:%M:%S')\n",
    "        print(f\"[LOG] {timestamp} - {self.__class__.__name__} - {self.msg}\")"
   ]
  },
  {
   "cell_type": "code",
   "execution_count": 70,
   "id": "e0114432",
   "metadata": {},
   "outputs": [],
   "source": [
    "class Veiculo(ABC, LogMixin):\n",
    "    def __init__(self, capacidade_kg):\n",
    "        self.capacidade_kg = capacidade_kg\n",
    "        \n",
    "    @abstractmethod\n",
    "    def entregar(pacote):\n",
    "        pass\n",
    "    \n",
    "class Caminhao(Veiculo):\n",
    "    def __init__(self, capacidade_kg):\n",
    "        self.capacidade_kg = capacidade_kg\n",
    "        \n",
    "    def entregar(self, pacote):\n",
    "        if self.capacidade_kg < pacote.peso:\n",
    "            raise PacoteExcedePeso(\n",
    "                f\"Peso {pacote.peso} excede a capacidade máxima.\"\n",
    "            )\n",
    "        self.log(f\"Entregando {pacote.etiqueta} por estrada.\")\n",
    "\n",
    "class Drone(Veiculo):\n",
    "    def __init__(self, capacidade_kg, pct_bateria):\n",
    "        self.capacidade_kg = capacidade_kg\n",
    "        self.pct_bateria = pct_bateria\n",
    "    \n",
    "    def verificar_bateria(self):\n",
    "        if self.pct_bateria < 10:\n",
    "            raise BateriaFraca(f'Bateria em {self.pct_bateria}%. Por favor, recarregue.') \n",
    "    \n",
    "    def entregar(self, pacote):\n",
    "        if self.capacidade_kg < pacote.peso:\n",
    "            raise PacoteExcedePeso(f\"Peso {pacote.peso} excede a capacidade máxima.\")\n",
    "        self.pct_bateria -= 10\n",
    "        self.log(f\"Entregando {pacote.etiqueta} pelo ar.\")    \n",
    "    "
   ]
  },
  {
   "cell_type": "code",
   "execution_count": 71,
   "id": "404f9768",
   "metadata": {},
   "outputs": [],
   "source": [
    "class Pacote:\n",
    "    def __init__(self, etiqueta, peso):\n",
    "        self.etiqueta = etiqueta\n",
    "        self.peso = peso\n",
    "        "
   ]
  },
  {
   "cell_type": "code",
   "execution_count": 80,
   "id": "0206ce81",
   "metadata": {},
   "outputs": [],
   "source": [
    "class ServicoEntrega:\n",
    "    def __init__(self):\n",
    "        self.frota = []\n",
    "        \n",
    "    def adicionar_veiculo(self, veiculo):\n",
    "        self.frota.append(veiculo)\n",
    "        \n",
    "    def encontrar_veiculo(self, pacote):\n",
    "        for veiculo in self.frota:\n",
    "            if veiculo.capacidade_kg >= pacote.peso:\n",
    "                return veiculo\n",
    "        raise VeiculoIndisponivel(\"Nenhum veículo com a capacidade do pacote.\")\n",
    "        \n",
    "    def despachar(self, pacote):\n",
    "        try:\n",
    "            veiculo = self.encontrar_veiculo(pacote)\n",
    "            veiculo.entregar(pacote)\n",
    "        except ErroEntrega as e:\n",
    "            print(e)\n",
    "        else:\n",
    "            print(\"Entrega concluída.\")\n",
    "        finally:\n",
    "            print(\"Entrega encerrada.\")\n",
    "        "
   ]
  },
  {
   "cell_type": "code",
   "execution_count": 81,
   "id": "a2a198dc",
   "metadata": {},
   "outputs": [
    {
     "name": "stdout",
     "output_type": "stream",
     "text": [
      "[LOG] 2025-06-12 22:06:02 - Caminhao - Entregando sapato por estrada.\n",
      "Entrega concluída.\n",
      "Entrega encerrada.\n",
      "Nenhum veículo com a capacidade do pacote.\n",
      "Entrega encerrada.\n",
      "[LOG] 2025-06-12 22:06:02 - Caminhao - Entregando tenis por estrada.\n",
      "Entrega concluída.\n",
      "Entrega encerrada.\n"
     ]
    }
   ],
   "source": [
    "servico = ServicoEntrega()\n",
    "servico.adicionar_veiculo(Caminhao(500))\n",
    "servico.adicionar_veiculo(Drone(5, 100))\n",
    "\n",
    "pacotes = [\n",
    "    Pacote(\"sapato\", 100),\n",
    "    Pacote('mesa', 2000),\n",
    "    Pacote('tenis', 300)\n",
    "]\n",
    "\n",
    "for pacote in pacotes:\n",
    "    servico.despachar(pacote)\n",
    "    "
   ]
  },
  {
   "cell_type": "markdown",
   "id": "e01318cc",
   "metadata": {},
   "source": [
    "### Decorators"
   ]
  },
  {
   "cell_type": "code",
   "execution_count": null,
   "id": "f85bbda7",
   "metadata": {},
   "outputs": [],
   "source": [
    "import time\n",
    "\n",
    "def medir_tempo(func):\n",
    "    \n",
    "    def wrapper(*args, **kwargs):\n",
    "        inicio = time.time()\n",
    "        resultado = func(*args, **kwargs)\n",
    "        fim = time.time()\n",
    "        print(f\"Tempo de execução {fim-inicio}\")\n",
    "        return resultado\n",
    "    return wrapper"
   ]
  },
  {
   "cell_type": "code",
   "execution_count": null,
   "id": "0711bbbf",
   "metadata": {},
   "outputs": [],
   "source": [
    "@medir_tempo\n",
    "exemplo()"
   ]
  },
  {
   "cell_type": "code",
   "execution_count": null,
   "id": "395318c5",
   "metadata": {},
   "outputs": [],
   "source": []
  },
  {
   "cell_type": "code",
   "execution_count": null,
   "id": "d6eed942",
   "metadata": {},
   "outputs": [],
   "source": []
  },
  {
   "cell_type": "code",
   "execution_count": null,
   "id": "e18744f0",
   "metadata": {},
   "outputs": [],
   "source": []
  },
  {
   "cell_type": "code",
   "execution_count": null,
   "id": "30551004",
   "metadata": {},
   "outputs": [],
   "source": []
  }
 ],
 "metadata": {
  "kernelspec": {
   "display_name": "Python 3 (ipykernel)",
   "language": "python",
   "name": "python3"
  },
  "language_info": {
   "codemirror_mode": {
    "name": "ipython",
    "version": 3
   },
   "file_extension": ".py",
   "mimetype": "text/x-python",
   "name": "python",
   "nbconvert_exporter": "python",
   "pygments_lexer": "ipython3",
   "version": "3.12.7"
  }
 },
 "nbformat": 4,
 "nbformat_minor": 5
}
