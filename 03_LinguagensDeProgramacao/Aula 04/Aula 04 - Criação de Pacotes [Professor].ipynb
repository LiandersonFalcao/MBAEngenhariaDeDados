{
 "cells": [
  {
   "cell_type": "markdown",
   "id": "d66d6eb3",
   "metadata": {},
   "source": [
    "# 📦 Pacotes no Python\n",
    "\n",
    "## 🧠 1. O que é um pacote?\n",
    "\n",
    "Um **pacote** é um conjunto de módulos python organizados sob um mesmo diretório com um arquivo \n",
    "**` __init__.py `**.\n",
    "<br>\n",
    "Um **módulo** é qualquer arquivo `.py` que contém código Python reutilizável.  \n",
    "Ele pode conter funções, classes, variáveis e até outros imports.\n",
    "\n",
    "➡️ Módulos ajudam a **organizar o código em partes reutilizáveis e fáceis de manter**.\n",
    "\n",
    "---\n",
    "\n",
    "### 1.1 Exemplo 01 - Empacotando classes\n",
    "Vamos criar um pacote de validação com uma classe abstrata.\n",
    "\n",
    "#### 📁  Estrutura básica de diretórios e arquivos\n",
    "\n",
    "```text\n",
    "meu_projeto/\n",
    "│\n",
    "├── main.py\n",
    "├── validadores/\n",
    "│   ├── __init__.py\n",
    "│   ├── base.py         ← classe abstrata\n",
    "│   ├── email.py        ← implementação concreta\n",
    "│   └── senha.py        ← outra implementação\n"
   ]
  },
  {
   "cell_type": "markdown",
   "id": "b1bd041b",
   "metadata": {},
   "source": [
    "#### 💭 Arquivo base.py – classe abstrata"
   ]
  },
  {
   "cell_type": "code",
   "execution_count": null,
   "id": "661dae45",
   "metadata": {},
   "outputs": [],
   "source": [
    "# validadores/base.py\n",
    "# ABC = Abstract Base Classes\n",
    "from abc import ABC, abstractmethod\n",
    "\n",
    "class Validador(ABC):\n",
    "    @abstractmethod\n",
    "    def validar (self, dado):\n",
    "        pass\n"
   ]
  },
  {
   "cell_type": "markdown",
   "id": "ed6aa19a",
   "metadata": {},
   "source": [
    "#### 📫 Arquivo email.py – subclasse concreta"
   ]
  },
  {
   "cell_type": "code",
   "execution_count": null,
   "id": "0afd0a6c",
   "metadata": {},
   "outputs": [],
   "source": [
    "# validadores/email.py\n",
    "from .base import Validador\n",
    "\n",
    "class ValidadorEmail(Validador):\n",
    "    def validar(self, dado):\n",
    "        return \"@\" in dado\n"
   ]
  },
  {
   "cell_type": "markdown",
   "id": "691a050d",
   "metadata": {},
   "source": [
    "#### 🔐 Arquivo senha.py – subclasse concreta"
   ]
  },
  {
   "cell_type": "code",
   "execution_count": null,
   "id": "eef2ae46",
   "metadata": {},
   "outputs": [],
   "source": [
    "# validadores/senha.py\n",
    "from .base import Validador\n",
    "\n",
    "class ValidadorSenha(Validador):\n",
    "    def validar(self, dado):\n",
    "        return len(dado) >= 8\n"
   ]
  },
  {
   "cell_type": "markdown",
   "id": "ddd7a77a",
   "metadata": {},
   "source": [
    "#### 📌 Arquivo `__init__.py` – inicialização do pacote\n",
    "\n",
    "Esse arquivo pode estar vazio, mas permite que o diretório seja reconhecido como um pacote.<br>\n",
    "Você também pode usá-lo para definir o que será importado por padrão:"
   ]
  },
  {
   "cell_type": "code",
   "execution_count": null,
   "id": "25d08728",
   "metadata": {},
   "outputs": [],
   "source": [
    "# validadores/__init__.py\n",
    "from .email import ValidadorEmail\n",
    "from .senha import ValidadorSenha\n",
    "\n",
    "__all__ = [\"ValidadorEmail\", \"ValidadorSenha\"]\n"
   ]
  },
  {
   "cell_type": "markdown",
   "id": "f1165dbe",
   "metadata": {},
   "source": [
    "#### 🚀 Arquivo main.py – usando os módulos"
   ]
  },
  {
   "cell_type": "code",
   "execution_count": null,
   "id": "f55accd8",
   "metadata": {},
   "outputs": [],
   "source": [
    "# main.py\n",
    "#from pasta   import classe 1, classe 2\n",
    "from validadores import ValidadorEmail, ValidadorSenha\n",
    "\n",
    "validador_email = ValidadorEmail()\n",
    "email_valido = validador_email.validar(\"teste@email.com\")\n",
    "\n",
    "#email_valido = ValidadorEmail().validar(\"teste@email.com\")\n",
    "#senha_valida = ValidadorSenha().validar(\"12345678\")\n",
    "\n",
    "print(\"Email válido?\", email_valido)\n",
    "print(\"Senha válida?\", senha_valida)\n"
   ]
  },
  {
   "cell_type": "markdown",
   "id": "56dbdde8",
   "metadata": {},
   "source": [
    "### 1.2 Exemplo 2 - Empacotando funções e classes"
   ]
  },
  {
   "cell_type": "markdown",
   "id": "84f5f4f6",
   "metadata": {},
   "source": [
    "#### 📁 Estrutura básica de diretórios e arquivos\n",
    "\n",
    "```text\n",
    "meu_projeto/\n",
    "├── main.py\n",
    "└── calculo/\n",
    "    ├── __init__.py\n",
    "    └── operacoes.py\n",
    "```"
   ]
  },
  {
   "cell_type": "markdown",
   "id": "da74b6e6",
   "metadata": {},
   "source": [
    "#### 📄 Arquivo `operacoes.py`"
   ]
  },
  {
   "cell_type": "code",
   "execution_count": null,
   "id": "42bc192e",
   "metadata": {},
   "outputs": [],
   "source": [
    "def somar(a, b):\n",
    "    return a + b\n",
    "\n",
    "class Calculadora:\n",
    "    def multiplicar(self, a, b):\n",
    "        return a * b\n"
   ]
  },
  {
   "cell_type": "markdown",
   "id": "66b782d4",
   "metadata": {},
   "source": [
    "#### 📄 Arquivo `main.py`"
   ]
  },
  {
   "cell_type": "code",
   "execution_count": null,
   "id": "82dcb86e",
   "metadata": {},
   "outputs": [],
   "source": [
    "# Importando o pacote\n",
    "import calculo.operacoes\n",
    "print(calculo.operacoes.somar(2, 3))\n",
    "\n",
    "# Importando diretamente a função\n",
    "from calculo.operacoes import somar\n",
    "print(somar(5, 6))\n",
    "\n",
    "# Importando classe e renomeando\n",
    "from calculo.operacoes import Calculadora as Calc\n",
    "c = Calc()\n",
    "print(c.multiplicar(2, 4))\n"
   ]
  },
  {
   "cell_type": "code",
   "execution_count": null,
   "id": "23a719ad",
   "metadata": {},
   "outputs": [],
   "source": []
  },
  {
   "cell_type": "markdown",
   "id": "b8d8158d",
   "metadata": {},
   "source": [
    "### 1.3  Exemplo 3 - Filtrando importações"
   ]
  },
  {
   "cell_type": "markdown",
   "id": "1b7bc804",
   "metadata": {},
   "source": [
    "#### 📁 Estrutura básica de diretórios e arquivos\n",
    "\n",
    "```text\n",
    "meu_projeto/\n",
    "├── main.py\n",
    "└── meu_pacote/\n",
    "    ├── __init__.py\n",
    "    └── extras.py\n"
   ]
  },
  {
   "cell_type": "markdown",
   "id": "8c4150f0",
   "metadata": {},
   "source": [
    "#### 📄 Arquivo `extras.py`"
   ]
  },
  {
   "cell_type": "code",
   "execution_count": null,
   "id": "d4700c77",
   "metadata": {},
   "outputs": [],
   "source": [
    "def util_1():\n",
    "    return \"Função 1\"\n",
    "\n",
    "def util_2():\n",
    "    return \"Função 2\"\n"
   ]
  },
  {
   "cell_type": "markdown",
   "id": "69c1aefa",
   "metadata": {},
   "source": [
    "#### 📄 Arquivo `__init__.py` (com filtro)"
   ]
  },
  {
   "cell_type": "code",
   "execution_count": null,
   "id": "dae0865e",
   "metadata": {},
   "outputs": [],
   "source": [
    "from .extras import util_1, util_2\n",
    "\n",
    "__all__ = [\"util_1\"]  # util_2 está disponível, mas NÃO será importada com '*'\n"
   ]
  },
  {
   "cell_type": "markdown",
   "id": "666efea1",
   "metadata": {},
   "source": [
    "#### 📄 Arquivo `main.py`"
   ]
  },
  {
   "cell_type": "code",
   "execution_count": null,
   "id": "a0441c99",
   "metadata": {},
   "outputs": [],
   "source": [
    "from meu_pacote import *\n",
    "\n",
    "print(util_1())  # ✅ Funciona\n",
    "print(util_2())  # ❌ Erro: NameError\n"
   ]
  },
  {
   "cell_type": "markdown",
   "id": "854e2965",
   "metadata": {},
   "source": [
    "### 🐍 Variáveis especiais importantes em pacotes Python\n",
    "\n",
    "| Variável      | Tipo      | Finalidade principal                                                                |\n",
    "| ------------- | --------- | ----------------------------------------------------------------------------------- |\n",
    "| `__name__`    | `str`     | Identifica se o arquivo está sendo **executado diretamente** ou **importado**       |\n",
    "| `__file__`    | `str`     | Caminho completo do arquivo `.py` (útil para carregar arquivos relativos)           |\n",
    "| `__path__`    | `list`    | Lista de caminhos onde o pacote pode buscar submódulos (existe só em pacotes)       |\n",
    "| `__package__` | `str`     | Nome do pacote atual (ajuda em importações relativas)                               |\n",
    "| `__all__`     | `list`    | Define quais nomes são exportados em `from pacote import *`                         |\n",
    "| `__init__.py` | (arquivo) | Arquivo executado quando o pacote é importado. Pode definir comportamentos globais. |\n"
   ]
  },
  {
   "cell_type": "code",
   "execution_count": 12,
   "id": "530bafce",
   "metadata": {},
   "outputs": [
    {
     "data": {
      "text/plain": [
       "True"
      ]
     },
     "execution_count": 12,
     "metadata": {},
     "output_type": "execute_result"
    }
   ],
   "source": [
    "class Cliente:\n",
    "    def __init__(self, novo_nome):\n",
    "        self.nome = novo_nome\n",
    "        \n",
    "cliente1 = Cliente('cliente')\n",
    "\n",
    "\n",
    "hasattr(cliente1, \"nome\")"
   ]
  },
  {
   "cell_type": "markdown",
   "id": "8224e0a5",
   "metadata": {},
   "source": [
    "###  Aplicações\n",
    "\n",
    "✅ __name__\n",
    " - Em módulos ou scripts, vale:\n",
    "     - \"__main__\" → quando o arquivo está sendo executado diretamente.\n",
    "     - \"nome_do_modulo\" → quando está sendo importado.\n",
    "\n",
    "🔍 Útil para incluir blocos como:\n",
    "\n",
    "```python\n",
    "if __name__ == \"__main__\":\n",
    "    print(\"Executando diretamente.\")\n",
    "```"
   ]
  },
  {
   "cell_type": "markdown",
   "id": "fcf8639c",
   "metadata": {},
   "source": [
    "✅ __file__\n",
    " - Mostra o caminho absoluto do arquivo .py.\n",
    " - Útil para ler arquivos com caminho relativo ao script:\n",
    " \n",
    " ```python\n",
    "import os\n",
    "caminho = os.path.dirname(__file__)\n",
    "```"
   ]
  },
  {
   "cell_type": "markdown",
   "id": "26c71c4c",
   "metadata": {},
   "source": [
    "✅ __path__\n",
    " - Existe somente em pacotes (__init__.py).\n",
    " - É uma lista que permite definir caminhos adicionais onde o Python pode procurar submódulos.\n",
    "\n",
    "🔍 Pouco usado diretamente, mas muito importante para pacotes dinâmicos e namespace packages.\n",
    "\n",
    "```python\n",
    "import sys\n",
    "print(\"__path__ =\", '__path__')\n",
    "```"
   ]
  },
  {
   "cell_type": "markdown",
   "id": "b57d55b9",
   "metadata": {},
   "source": [
    "✅ __all__\n",
    " - Lista de strings com os nomes que devem ser importados com from pacote import *.\n",
    " - Evita poluir o namespace e dá controle ao autor do pacote.\n",
    "\n"
   ]
  },
  {
   "cell_type": "markdown",
   "id": "a2526a75",
   "metadata": {},
   "source": [
    "#### 💡 Para jupyter notebook\n",
    "\n",
    "__name__ sempre é igual a main"
   ]
  },
  {
   "cell_type": "markdown",
   "id": "9c452592",
   "metadata": {},
   "source": [
    "### 1.4 Qual a importancia do \"teste main\"?"
   ]
  },
  {
   "cell_type": "markdown",
   "id": "b52eab3d",
   "metadata": {},
   "source": [
    "É uma verificação que impede que certo código seja executado automaticamente quando o módulo for importado por outro."
   ]
  },
  {
   "cell_type": "code",
   "execution_count": null,
   "id": "be2de5e3",
   "metadata": {},
   "outputs": [],
   "source": [
    "# teste\n",
    "if __name__ == \"__main__\":\n",
    "    print(\"Executando diretamente\")\n"
   ]
  },
  {
   "cell_type": "markdown",
   "id": "538715b7",
   "metadata": {},
   "source": [
    "Quando você executa um arquivo .py, o interpretador Python atribui a variável especial __name__ com o valor:\n",
    "```python\n",
    "__name__ == \"__main__\"\n",
    "```\n",
    "Mas quando outro módulo importa esse arquivo, o valor será:\n",
    "```python\n",
    "__name__ == \"nome_do_módulo\"\n",
    "```"
   ]
  },
  {
   "cell_type": "markdown",
   "id": "1f8aeef4",
   "metadata": {},
   "source": [
    "### 1.5 Exemplo - Teste Main"
   ]
  },
  {
   "cell_type": "markdown",
   "id": "734ac089",
   "metadata": {},
   "source": [
    "#### 📁 Estrutura básica de diretórios e arquivos\n",
    "\n",
    "```python\n",
    "meu_projeto/\n",
    "├── main.py       # script principal\n",
    "└── util.py       # módulo auxiliar\n",
    "```"
   ]
  },
  {
   "cell_type": "markdown",
   "id": "490fd8d5",
   "metadata": {},
   "source": [
    "#### 📄 Arquivo `util.py`"
   ]
  },
  {
   "cell_type": "code",
   "execution_count": null,
   "id": "34f67f20",
   "metadata": {},
   "outputs": [],
   "source": [
    "def somar(a, b):\n",
    "    return a + b\n",
    "\n",
    "if __name__ == \"__main__\":\n",
    "    print(\"Testando soma:\")\n",
    "    print(somar(2, 3))  # Esse print só roda se você executar util.py diretamente\n"
   ]
  },
  {
   "cell_type": "markdown",
   "id": "880bc91a",
   "metadata": {},
   "source": [
    "#### 📄 Arquivo `main.py`"
   ]
  },
  {
   "cell_type": "code",
   "execution_count": null,
   "id": "93ade47d",
   "metadata": {},
   "outputs": [],
   "source": [
    "from util import somar\n",
    "\n",
    "print(somar(10, 5))  # Isso funciona, mas o print interno do util.py NÃO aparece"
   ]
  },
  {
   "cell_type": "markdown",
   "id": "9fa8b6b6",
   "metadata": {},
   "source": [
    "### 💡 Resumo\n",
    "\n",
    "if __name__ == \"__main__\" é a maneira padrão em Python de dizer:\n",
    "\n",
    "> \"Execute este bloco só quando este arquivo for o principal.\""
   ]
  },
  {
   "cell_type": "markdown",
   "id": "19c32ca7",
   "metadata": {},
   "source": [
    "## 2. Variáveis de projeto"
   ]
  },
  {
   "cell_type": "markdown",
   "id": "065d2a9b",
   "metadata": {},
   "source": [
    "### 2.1 Exemplo 1 - Importando variáveis\n",
    "\n",
    "#### 📁 Estrutura básica de diretórios e arquivos\n",
    "\n",
    "```python\n",
    "meu_projeto/\n",
    "├── config.py      # módulo com variáveis\n",
    "└── main.py        # script principal\n",
    "```"
   ]
  },
  {
   "cell_type": "markdown",
   "id": "9f6fd20f",
   "metadata": {},
   "source": [
    "#### 📄 Arquivo `config.py`"
   ]
  },
  {
   "cell_type": "code",
   "execution_count": null,
   "id": "c5d085e3",
   "metadata": {},
   "outputs": [],
   "source": [
    "NOME_PROJETO = \"MeuSistemaDeUsuarios\"\n",
    "VERSAO = \"1.0\"\n",
    "DEBUG = True\n",
    "\n",
    "API_URL = \"https://api.exemplo.com\"\n",
    "TEMAS_SUPORTADOS = [\"claro\", \"escuro\"]\n"
   ]
  },
  {
   "cell_type": "markdown",
   "id": "116b0a33",
   "metadata": {},
   "source": [
    "#### 📄 Arquivo `main.py`"
   ]
  },
  {
   "cell_type": "code",
   "execution_count": null,
   "id": "e76e59ea",
   "metadata": {},
   "outputs": [],
   "source": [
    "from config import NOME_PROJETO, DEBUG, TEMAS_SUPORTADOS\n",
    "\n",
    "print(f\"Projeto: {NOME_PROJETO}\")\n",
    "print(\"Debug ativado?\" , DEBUG)\n",
    "print(\"Temas:\", TEMAS_SUPORTADOS)\n"
   ]
  },
  {
   "cell_type": "markdown",
   "id": "e03e005d",
   "metadata": {},
   "source": [
    "#### 📌 Dica profissional\n",
    "Você pode criar módulos como:\n",
    " - `config.py` → configurações gerais\n",
    " - `constantes.py` → valores fixos (ex: PI, STATUS_ATIVO)\n",
    " - `estilos.py` → cores e padrões visuais de UI\n",
    " - `paths.py` → caminhos de arquivos, diretórios e logs"
   ]
  },
  {
   "cell_type": "markdown",
   "id": "f79e42c6",
   "metadata": {},
   "source": [
    "## Variáveis de ambiente\n",
    "\n",
    "Variáveis de ambiente são valores armazenados fora do código-fonte, usados para configurar o comportamento de um programa ou armazenar informações sensíveis."
   ]
  },
  {
   "cell_type": "code",
   "execution_count": null,
   "id": "a1e3666e",
   "metadata": {},
   "outputs": [],
   "source": [
    "%load_ext dotenv # ativa a exxtensão dotenv\n",
    "%dotenv          # carrega as variáveis do .env"
   ]
  },
  {
   "cell_type": "code",
   "execution_count": 2,
   "id": "4b603e08",
   "metadata": {},
   "outputs": [
    {
     "data": {
      "text/plain": [
       "True"
      ]
     },
     "execution_count": 2,
     "metadata": {},
     "output_type": "execute_result"
    }
   ],
   "source": [
    "# mesmo efeito da célula acima, mas aqui o nome e extensão do arquivo pode ser especificado\n",
    "from dotenv import load_dotenv\n",
    "load_dotenv(r\".\\credenciais.env\")"
   ]
  },
  {
   "cell_type": "markdown",
   "id": "8fd9e3af",
   "metadata": {},
   "source": [
    "O arquivo com as variáveis deve seguir a seguinte estrutura:\n",
    "\n",
    "```text\n",
    "API_KEY=12345\n",
    "DEBUG=True\n",
    "```    "
   ]
  },
  {
   "cell_type": "markdown",
   "id": "570a6b8b",
   "metadata": {},
   "source": [
    "Após a execução de uma das células acima, as variáveis estarão disponíveis assim:\n",
    "\n",
    "```python    \n",
    "import os\n",
    "print(os.getenv(\"API_KEY\"))  # → \"12345\"\n",
    "```    "
   ]
  },
  {
   "cell_type": "code",
   "execution_count": 1,
   "id": "4cdded08",
   "metadata": {},
   "outputs": [],
   "source": [
    "import os\n",
    "os.environ['API_KEY']='10'"
   ]
  },
  {
   "cell_type": "code",
   "execution_count": 2,
   "id": "b7655777",
   "metadata": {},
   "outputs": [
    {
     "data": {
      "text/plain": [
       "'10'"
      ]
     },
     "execution_count": 2,
     "metadata": {},
     "output_type": "execute_result"
    }
   ],
   "source": [
    "os.environ['API_KEY']"
   ]
  },
  {
   "cell_type": "code",
   "execution_count": 4,
   "id": "433c8c93",
   "metadata": {},
   "outputs": [],
   "source": [
    "import os\n",
    "os.getenv(\"DEBUG\")"
   ]
  },
  {
   "cell_type": "code",
   "execution_count": 5,
   "id": "ffd353ec",
   "metadata": {},
   "outputs": [
    {
     "ename": "KeyError",
     "evalue": "'DEBUG'",
     "output_type": "error",
     "traceback": [
      "\u001b[1;31m---------------------------------------------------------------------------\u001b[0m",
      "\u001b[1;31mKeyError\u001b[0m                                  Traceback (most recent call last)",
      "Cell \u001b[1;32mIn[5], line 1\u001b[0m\n\u001b[1;32m----> 1\u001b[0m os\u001b[38;5;241m.\u001b[39menviron[\u001b[38;5;124m'\u001b[39m\u001b[38;5;124mDEBUG\u001b[39m\u001b[38;5;124m'\u001b[39m]\n",
      "File \u001b[1;32m<frozen os>:714\u001b[0m, in \u001b[0;36m__getitem__\u001b[1;34m(self, key)\u001b[0m\n",
      "\u001b[1;31mKeyError\u001b[0m: 'DEBUG'"
     ]
    }
   ],
   "source": [
    "os.environ['DEBUG']"
   ]
  },
  {
   "cell_type": "code",
   "execution_count": null,
   "id": "3e0bca90",
   "metadata": {},
   "outputs": [],
   "source": []
  }
 ],
 "metadata": {
  "kernelspec": {
   "display_name": "Python 3 (ipykernel)",
   "language": "python",
   "name": "python3"
  },
  "language_info": {
   "codemirror_mode": {
    "name": "ipython",
    "version": 3
   },
   "file_extension": ".py",
   "mimetype": "text/x-python",
   "name": "python",
   "nbconvert_exporter": "python",
   "pygments_lexer": "ipython3",
   "version": "3.12.7"
  }
 },
 "nbformat": 4,
 "nbformat_minor": 5
}
